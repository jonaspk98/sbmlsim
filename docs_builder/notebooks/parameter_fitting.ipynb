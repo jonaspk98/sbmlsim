{
 "cells": [
  {
   "cell_type": "markdown",
   "metadata": {},
   "source": [
    "# Parameter fitting\n",
    "sbmlsim comes with functionality for parameter fitting. The key classes required for an optimization problem are\n",
    "- `FitMapping`: mapping of reference data to observables in the model\n",
    "- `FitParameter`: parameters which should be optimized\n",
    "- `FitExperiment`: defining for a `SimulationExperiment` which mappings should be used for fitting\n",
    "\n",
    "Based on these classes an optimization problem can be defined."
   ]
  },
  {
   "cell_type": "code",
   "execution_count": 1,
   "metadata": {},
   "outputs": [
    {
     "name": "stdout",
     "output_type": "stream",
     "text": [
      "0.1.13\n"
     ]
    }
   ],
   "source": [
    "%load_ext autoreload\n",
    "%autoreload 2\n",
    "import sbmlsim\n",
    "print(sbmlsim.__version__)"
   ]
  },
  {
   "cell_type": "markdown",
   "metadata": {},
   "source": [
    "## Model\n",
    "A first step for parameter fitting is to have a model with actual parameters which can be optimized. For the following example a simple example consisting of two metabolites and a single reaction is used.\n",
    "\n",
    "```\n",
    "v1: A -> B; v1_Vmax * A/(v1_Km_A + A)\"\n",
    "```"
   ]
  },
  {
   "cell_type": "code",
   "execution_count": 4,
   "metadata": {},
   "outputs": [],
   "source": [
    "import pandas as pd\n",
    "import roadrunner\n",
    "import libsbml\n",
    "doc = libsbml.readSBMLFromFile(\"./parameter_fitting/single_reaction.py\")  # type: libsbml.SBMLDocument\n",
    "\n",
    "\n"
   ]
  },
  {
   "cell_type": "code",
   "execution_count": null,
   "metadata": {},
   "outputs": [],
   "source": []
  },
  {
   "cell_type": "markdown",
   "metadata": {},
   "source": [
    "## FitMapping"
   ]
  },
  {
   "cell_type": "code",
   "execution_count": null,
   "metadata": {},
   "outputs": [],
   "source": []
  }
 ],
 "metadata": {
  "kernelspec": {
   "display_name": "sbmlsim",
   "language": "python",
   "name": "sbmlsim"
  },
  "language_info": {
   "codemirror_mode": {
    "name": "ipython",
    "version": 3
   },
   "file_extension": ".py",
   "mimetype": "text/x-python",
   "name": "python",
   "nbconvert_exporter": "python",
   "pygments_lexer": "ipython3",
   "version": "3.8.5"
  }
 },
 "nbformat": 4,
 "nbformat_minor": 4
}
