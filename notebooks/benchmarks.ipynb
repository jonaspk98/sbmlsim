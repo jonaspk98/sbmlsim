{
 "cells": [
  {
   "cell_type": "code",
   "execution_count": 39,
   "metadata": {
    "pycharm": {
     "is_executing": false
    }
   },
   "outputs": [
    {
     "name": "stdout",
     "output_type": "stream",
     "text": [
      "The autoreload extension is already loaded. To reload it, use:\n",
      "  %reload_ext autoreload\n"
     ]
    }
   ],
   "source": [
    "%load_ext autoreload\n",
    "%autoreload 2"
   ]
  },
  {
   "cell_type": "code",
   "execution_count": 40,
   "metadata": {},
   "outputs": [
    {
     "data": {
      "text/html": [
       "<div>\n",
       "<style scoped>\n",
       "    .dataframe tbody tr th:only-of-type {\n",
       "        vertical-align: middle;\n",
       "    }\n",
       "\n",
       "    .dataframe tbody tr th {\n",
       "        vertical-align: top;\n",
       "    }\n",
       "\n",
       "    .dataframe thead th {\n",
       "        text-align: right;\n",
       "    }\n",
       "</style>\n",
       "<table border=\"1\" class=\"dataframe\">\n",
       "  <thead>\n",
       "    <tr style=\"text-align: right;\">\n",
       "      <th></th>\n",
       "      <th>key</th>\n",
       "      <th>nsim</th>\n",
       "      <th>actor_count</th>\n",
       "      <th>time_type</th>\n",
       "      <th>time</th>\n",
       "      <th>repeat</th>\n",
       "    </tr>\n",
       "  </thead>\n",
       "  <tbody>\n",
       "    <tr>\n",
       "      <td>0</td>\n",
       "      <td>parallel</td>\n",
       "      <td>1</td>\n",
       "      <td>15</td>\n",
       "      <td>load</td>\n",
       "      <td>0.053847</td>\n",
       "      <td>0</td>\n",
       "    </tr>\n",
       "    <tr>\n",
       "      <td>1</td>\n",
       "      <td>parallel</td>\n",
       "      <td>1</td>\n",
       "      <td>15</td>\n",
       "      <td>simulate</td>\n",
       "      <td>2.834743</td>\n",
       "      <td>0</td>\n",
       "    </tr>\n",
       "    <tr>\n",
       "      <td>2</td>\n",
       "      <td>parallel</td>\n",
       "      <td>1</td>\n",
       "      <td>15</td>\n",
       "      <td>total</td>\n",
       "      <td>2.888590</td>\n",
       "      <td>0</td>\n",
       "    </tr>\n",
       "    <tr>\n",
       "      <td>3</td>\n",
       "      <td>parallel</td>\n",
       "      <td>1</td>\n",
       "      <td>15</td>\n",
       "      <td>repeat</td>\n",
       "      <td>0.052937</td>\n",
       "      <td>0</td>\n",
       "    </tr>\n",
       "    <tr>\n",
       "      <td>4</td>\n",
       "      <td>serial</td>\n",
       "      <td>1</td>\n",
       "      <td>1</td>\n",
       "      <td>load</td>\n",
       "      <td>0.110430</td>\n",
       "      <td>0</td>\n",
       "    </tr>\n",
       "  </tbody>\n",
       "</table>\n",
       "</div>"
      ],
      "text/plain": [
       "        key  nsim  actor_count time_type      time  repeat\n",
       "0  parallel     1           15      load  0.053847       0\n",
       "1  parallel     1           15  simulate  2.834743       0\n",
       "2  parallel     1           15     total  2.888590       0\n",
       "3  parallel     1           15    repeat  0.052937       0\n",
       "4    serial     1            1      load  0.110430       0"
      ]
     },
     "execution_count": 40,
     "metadata": {},
     "output_type": "execute_result"
    }
   ],
   "source": [
    "import pandas as pd\n",
    "benchmarks = pd.read_csv(\"../sbmlsim/benchmarks/benchmarks.tsv\", sep=\"\\t\")\n",
    "benchmarks.head()"
   ]
  },
  {
   "cell_type": "code",
   "execution_count": 41,
   "metadata": {
    "pycharm": {
     "is_executing": false
    }
   },
   "outputs": [
    {
     "data": {
      "application/vnd.vegalite.v3+json": {
       "$schema": "https://vega.github.io/schema/vega-lite/v3.4.0.json",
       "config": {
        "mark": {
         "tooltip": null
        },
        "view": {
         "height": 300,
         "width": 400
        }
       },
       "data": {
        "name": "data-8914f2aa166bd8f4802ad9cfba8260ba"
       },
       "datasets": {
        "data-8914f2aa166bd8f4802ad9cfba8260ba": [
         {
          "actor_count": 15,
          "key": "parallel",
          "nsim": 1,
          "repeat": 0,
          "time": 0.053847074508666985,
          "time_type": "load"
         },
         {
          "actor_count": 15,
          "key": "parallel",
          "nsim": 1,
          "repeat": 0,
          "time": 2.834742784500122,
          "time_type": "simulate"
         },
         {
          "actor_count": 15,
          "key": "parallel",
          "nsim": 1,
          "repeat": 0,
          "time": 2.8885898590087886,
          "time_type": "total"
         },
         {
          "actor_count": 15,
          "key": "parallel",
          "nsim": 1,
          "repeat": 0,
          "time": 0.05293703079223633,
          "time_type": "repeat"
         },
         {
          "actor_count": 1,
          "key": "serial",
          "nsim": 1,
          "repeat": 0,
          "time": 0.11043047904968263,
          "time_type": "load"
         },
         {
          "actor_count": 1,
          "key": "serial",
          "nsim": 1,
          "repeat": 0,
          "time": 0.07031893730163574,
          "time_type": "simulate"
         },
         {
          "actor_count": 1,
          "key": "serial",
          "nsim": 1,
          "repeat": 0,
          "time": 0.1807494163513184,
          "time_type": "total"
         },
         {
          "actor_count": 1,
          "key": "serial",
          "nsim": 1,
          "repeat": 0,
          "time": 0.029787778854370117,
          "time_type": "repeat"
         },
         {
          "actor_count": 15,
          "key": "parallel",
          "nsim": 1,
          "repeat": 1,
          "time": 0.01634526252746582,
          "time_type": "load"
         },
         {
          "actor_count": 15,
          "key": "parallel",
          "nsim": 1,
          "repeat": 1,
          "time": 0.6252844333648682,
          "time_type": "simulate"
         },
         {
          "actor_count": 15,
          "key": "parallel",
          "nsim": 1,
          "repeat": 1,
          "time": 0.641629695892334,
          "time_type": "total"
         },
         {
          "actor_count": 15,
          "key": "parallel",
          "nsim": 1,
          "repeat": 1,
          "time": 0.03448319435119629,
          "time_type": "repeat"
         },
         {
          "actor_count": 1,
          "key": "serial",
          "nsim": 1,
          "repeat": 1,
          "time": 0.0717010498046875,
          "time_type": "load"
         },
         {
          "actor_count": 1,
          "key": "serial",
          "nsim": 1,
          "repeat": 1,
          "time": 0.04258441925048828,
          "time_type": "simulate"
         },
         {
          "actor_count": 1,
          "key": "serial",
          "nsim": 1,
          "repeat": 1,
          "time": 0.11428546905517578,
          "time_type": "total"
         },
         {
          "actor_count": 1,
          "key": "serial",
          "nsim": 1,
          "repeat": 1,
          "time": 0.0318911075592041,
          "time_type": "repeat"
         },
         {
          "actor_count": 15,
          "key": "parallel",
          "nsim": 1,
          "repeat": 2,
          "time": 0.016678571701049805,
          "time_type": "load"
         },
         {
          "actor_count": 15,
          "key": "parallel",
          "nsim": 1,
          "repeat": 2,
          "time": 0.6346783638000488,
          "time_type": "simulate"
         },
         {
          "actor_count": 15,
          "key": "parallel",
          "nsim": 1,
          "repeat": 2,
          "time": 0.6513569355010986,
          "time_type": "total"
         },
         {
          "actor_count": 15,
          "key": "parallel",
          "nsim": 1,
          "repeat": 2,
          "time": 0.032480716705322266,
          "time_type": "repeat"
         },
         {
          "actor_count": 1,
          "key": "serial",
          "nsim": 1,
          "repeat": 2,
          "time": 0.07116365432739258,
          "time_type": "load"
         },
         {
          "actor_count": 1,
          "key": "serial",
          "nsim": 1,
          "repeat": 2,
          "time": 0.04511260986328125,
          "time_type": "simulate"
         },
         {
          "actor_count": 1,
          "key": "serial",
          "nsim": 1,
          "repeat": 2,
          "time": 0.11627626419067386,
          "time_type": "total"
         },
         {
          "actor_count": 1,
          "key": "serial",
          "nsim": 1,
          "repeat": 2,
          "time": 0.026099681854248047,
          "time_type": "repeat"
         },
         {
          "actor_count": 15,
          "key": "parallel",
          "nsim": 2,
          "repeat": 0,
          "time": 0.0165097713470459,
          "time_type": "load"
         },
         {
          "actor_count": 15,
          "key": "parallel",
          "nsim": 2,
          "repeat": 0,
          "time": 0.5980901718139648,
          "time_type": "simulate"
         },
         {
          "actor_count": 15,
          "key": "parallel",
          "nsim": 2,
          "repeat": 0,
          "time": 0.6145999431610107,
          "time_type": "total"
         },
         {
          "actor_count": 15,
          "key": "parallel",
          "nsim": 2,
          "repeat": 0,
          "time": 0.03556084632873535,
          "time_type": "repeat"
         },
         {
          "actor_count": 1,
          "key": "serial",
          "nsim": 2,
          "repeat": 0,
          "time": 0.07361340522766112,
          "time_type": "load"
         },
         {
          "actor_count": 1,
          "key": "serial",
          "nsim": 2,
          "repeat": 0,
          "time": 0.08084845542907715,
          "time_type": "simulate"
         },
         {
          "actor_count": 1,
          "key": "serial",
          "nsim": 2,
          "repeat": 0,
          "time": 0.15446186065673828,
          "time_type": "total"
         },
         {
          "actor_count": 1,
          "key": "serial",
          "nsim": 2,
          "repeat": 0,
          "time": 0.09376907348632812,
          "time_type": "repeat"
         },
         {
          "actor_count": 15,
          "key": "parallel",
          "nsim": 2,
          "repeat": 1,
          "time": 0.014137983322143556,
          "time_type": "load"
         },
         {
          "actor_count": 15,
          "key": "parallel",
          "nsim": 2,
          "repeat": 1,
          "time": 3.2271425724029537,
          "time_type": "simulate"
         },
         {
          "actor_count": 15,
          "key": "parallel",
          "nsim": 2,
          "repeat": 1,
          "time": 3.2412805557250977,
          "time_type": "total"
         },
         {
          "actor_count": 15,
          "key": "parallel",
          "nsim": 2,
          "repeat": 1,
          "time": 0.03410792350769043,
          "time_type": "repeat"
         },
         {
          "actor_count": 1,
          "key": "serial",
          "nsim": 2,
          "repeat": 1,
          "time": 0.1071186065673828,
          "time_type": "load"
         },
         {
          "actor_count": 1,
          "key": "serial",
          "nsim": 2,
          "repeat": 1,
          "time": 0.05644822120666504,
          "time_type": "simulate"
         },
         {
          "actor_count": 1,
          "key": "serial",
          "nsim": 2,
          "repeat": 1,
          "time": 0.16356682777404785,
          "time_type": "total"
         },
         {
          "actor_count": 1,
          "key": "serial",
          "nsim": 2,
          "repeat": 1,
          "time": 0.056363105773925774,
          "time_type": "repeat"
         },
         {
          "actor_count": 15,
          "key": "parallel",
          "nsim": 2,
          "repeat": 2,
          "time": 0.013872861862182615,
          "time_type": "load"
         },
         {
          "actor_count": 15,
          "key": "parallel",
          "nsim": 2,
          "repeat": 2,
          "time": 0.6575555801391602,
          "time_type": "simulate"
         },
         {
          "actor_count": 15,
          "key": "parallel",
          "nsim": 2,
          "repeat": 2,
          "time": 0.6714284420013428,
          "time_type": "total"
         },
         {
          "actor_count": 15,
          "key": "parallel",
          "nsim": 2,
          "repeat": 2,
          "time": 0.03558659553527832,
          "time_type": "repeat"
         },
         {
          "actor_count": 1,
          "key": "serial",
          "nsim": 2,
          "repeat": 2,
          "time": 0.07060027122497559,
          "time_type": "load"
         },
         {
          "actor_count": 1,
          "key": "serial",
          "nsim": 2,
          "repeat": 2,
          "time": 0.05536842346191406,
          "time_type": "simulate"
         },
         {
          "actor_count": 1,
          "key": "serial",
          "nsim": 2,
          "repeat": 2,
          "time": 0.12596869468688965,
          "time_type": "total"
         },
         {
          "actor_count": 1,
          "key": "serial",
          "nsim": 2,
          "repeat": 2,
          "time": 0.053821802139282234,
          "time_type": "repeat"
         },
         {
          "actor_count": 15,
          "key": "parallel",
          "nsim": 4,
          "repeat": 0,
          "time": 0.012439250946044922,
          "time_type": "load"
         },
         {
          "actor_count": 15,
          "key": "parallel",
          "nsim": 4,
          "repeat": 0,
          "time": 0.6537168025970459,
          "time_type": "simulate"
         },
         {
          "actor_count": 15,
          "key": "parallel",
          "nsim": 4,
          "repeat": 0,
          "time": 0.6661560535430908,
          "time_type": "total"
         },
         {
          "actor_count": 15,
          "key": "parallel",
          "nsim": 4,
          "repeat": 0,
          "time": 0.048450231552124016,
          "time_type": "repeat"
         },
         {
          "actor_count": 1,
          "key": "serial",
          "nsim": 4,
          "repeat": 0,
          "time": 0.07170629501342772,
          "time_type": "load"
         },
         {
          "actor_count": 1,
          "key": "serial",
          "nsim": 4,
          "repeat": 0,
          "time": 0.13632655143737793,
          "time_type": "simulate"
         },
         {
          "actor_count": 1,
          "key": "serial",
          "nsim": 4,
          "repeat": 0,
          "time": 0.20803284645080566,
          "time_type": "total"
         },
         {
          "actor_count": 1,
          "key": "serial",
          "nsim": 4,
          "repeat": 0,
          "time": 0.10324597358703612,
          "time_type": "repeat"
         },
         {
          "actor_count": 15,
          "key": "parallel",
          "nsim": 4,
          "repeat": 1,
          "time": 0.008928775787353516,
          "time_type": "load"
         },
         {
          "actor_count": 15,
          "key": "parallel",
          "nsim": 4,
          "repeat": 1,
          "time": 3.2876923084259038,
          "time_type": "simulate"
         },
         {
          "actor_count": 15,
          "key": "parallel",
          "nsim": 4,
          "repeat": 1,
          "time": 3.296621084213257,
          "time_type": "total"
         },
         {
          "actor_count": 15,
          "key": "parallel",
          "nsim": 4,
          "repeat": 1,
          "time": 0.049437761306762695,
          "time_type": "repeat"
         },
         {
          "actor_count": 1,
          "key": "serial",
          "nsim": 4,
          "repeat": 1,
          "time": 0.07545685768127441,
          "time_type": "load"
         },
         {
          "actor_count": 1,
          "key": "serial",
          "nsim": 4,
          "repeat": 1,
          "time": 0.2169506549835205,
          "time_type": "simulate"
         },
         {
          "actor_count": 1,
          "key": "serial",
          "nsim": 4,
          "repeat": 1,
          "time": 0.2924075126647949,
          "time_type": "total"
         },
         {
          "actor_count": 1,
          "key": "serial",
          "nsim": 4,
          "repeat": 1,
          "time": 0.16721248626708984,
          "time_type": "repeat"
         },
         {
          "actor_count": 15,
          "key": "parallel",
          "nsim": 4,
          "repeat": 2,
          "time": 0.022194623947143555,
          "time_type": "load"
         },
         {
          "actor_count": 15,
          "key": "parallel",
          "nsim": 4,
          "repeat": 2,
          "time": 0.6202237606048584,
          "time_type": "simulate"
         },
         {
          "actor_count": 15,
          "key": "parallel",
          "nsim": 4,
          "repeat": 2,
          "time": 0.6424183845520021,
          "time_type": "total"
         },
         {
          "actor_count": 15,
          "key": "parallel",
          "nsim": 4,
          "repeat": 2,
          "time": 0.039028167724609375,
          "time_type": "repeat"
         },
         {
          "actor_count": 1,
          "key": "serial",
          "nsim": 4,
          "repeat": 2,
          "time": 0.06837248802185059,
          "time_type": "load"
         },
         {
          "actor_count": 1,
          "key": "serial",
          "nsim": 4,
          "repeat": 2,
          "time": 0.11954140663146973,
          "time_type": "simulate"
         },
         {
          "actor_count": 1,
          "key": "serial",
          "nsim": 4,
          "repeat": 2,
          "time": 0.1879138946533203,
          "time_type": "total"
         },
         {
          "actor_count": 1,
          "key": "serial",
          "nsim": 4,
          "repeat": 2,
          "time": 0.11112475395202637,
          "time_type": "repeat"
         },
         {
          "actor_count": 15,
          "key": "parallel",
          "nsim": 8,
          "repeat": 0,
          "time": 0.013366460800170898,
          "time_type": "load"
         },
         {
          "actor_count": 15,
          "key": "parallel",
          "nsim": 8,
          "repeat": 0,
          "time": 0.6211874485015869,
          "time_type": "simulate"
         },
         {
          "actor_count": 15,
          "key": "parallel",
          "nsim": 8,
          "repeat": 0,
          "time": 0.6345539093017578,
          "time_type": "total"
         },
         {
          "actor_count": 15,
          "key": "parallel",
          "nsim": 8,
          "repeat": 0,
          "time": 0.05152177810668945,
          "time_type": "repeat"
         },
         {
          "actor_count": 1,
          "key": "serial",
          "nsim": 8,
          "repeat": 0,
          "time": 0.06455636024475098,
          "time_type": "load"
         },
         {
          "actor_count": 1,
          "key": "serial",
          "nsim": 8,
          "repeat": 0,
          "time": 0.2424342632293701,
          "time_type": "simulate"
         },
         {
          "actor_count": 1,
          "key": "serial",
          "nsim": 8,
          "repeat": 0,
          "time": 0.3069906234741211,
          "time_type": "total"
         },
         {
          "actor_count": 1,
          "key": "serial",
          "nsim": 8,
          "repeat": 0,
          "time": 0.1919894218444824,
          "time_type": "repeat"
         },
         {
          "actor_count": 15,
          "key": "parallel",
          "nsim": 8,
          "repeat": 1,
          "time": 0.012973546981811523,
          "time_type": "load"
         },
         {
          "actor_count": 15,
          "key": "parallel",
          "nsim": 8,
          "repeat": 1,
          "time": 3.4793856143951416,
          "time_type": "simulate"
         },
         {
          "actor_count": 15,
          "key": "parallel",
          "nsim": 8,
          "repeat": 1,
          "time": 3.492359161376953,
          "time_type": "total"
         },
         {
          "actor_count": 15,
          "key": "parallel",
          "nsim": 8,
          "repeat": 1,
          "time": 0.05636000633239746,
          "time_type": "repeat"
         },
         {
          "actor_count": 1,
          "key": "serial",
          "nsim": 8,
          "repeat": 1,
          "time": 0.06709456443786621,
          "time_type": "load"
         },
         {
          "actor_count": 1,
          "key": "serial",
          "nsim": 8,
          "repeat": 1,
          "time": 0.3586854934692383,
          "time_type": "simulate"
         },
         {
          "actor_count": 1,
          "key": "serial",
          "nsim": 8,
          "repeat": 1,
          "time": 0.4257800579071045,
          "time_type": "total"
         },
         {
          "actor_count": 1,
          "key": "serial",
          "nsim": 8,
          "repeat": 1,
          "time": 0.187938928604126,
          "time_type": "repeat"
         },
         {
          "actor_count": 15,
          "key": "parallel",
          "nsim": 8,
          "repeat": 2,
          "time": 0.019819021224975586,
          "time_type": "load"
         },
         {
          "actor_count": 15,
          "key": "parallel",
          "nsim": 8,
          "repeat": 2,
          "time": 0.7167675495147705,
          "time_type": "simulate"
         },
         {
          "actor_count": 15,
          "key": "parallel",
          "nsim": 8,
          "repeat": 2,
          "time": 0.7365865707397461,
          "time_type": "total"
         },
         {
          "actor_count": 15,
          "key": "parallel",
          "nsim": 8,
          "repeat": 2,
          "time": 0.05486202239990234,
          "time_type": "repeat"
         },
         {
          "actor_count": 1,
          "key": "serial",
          "nsim": 8,
          "repeat": 2,
          "time": 0.06998467445373535,
          "time_type": "load"
         },
         {
          "actor_count": 1,
          "key": "serial",
          "nsim": 8,
          "repeat": 2,
          "time": 0.25211000442504883,
          "time_type": "simulate"
         },
         {
          "actor_count": 1,
          "key": "serial",
          "nsim": 8,
          "repeat": 2,
          "time": 0.3220946788787842,
          "time_type": "total"
         },
         {
          "actor_count": 1,
          "key": "serial",
          "nsim": 8,
          "repeat": 2,
          "time": 0.19546198844909668,
          "time_type": "repeat"
         },
         {
          "actor_count": 15,
          "key": "parallel",
          "nsim": 16,
          "repeat": 0,
          "time": 0.016231536865234375,
          "time_type": "load"
         },
         {
          "actor_count": 15,
          "key": "parallel",
          "nsim": 16,
          "repeat": 0,
          "time": 0.7057545185089111,
          "time_type": "simulate"
         },
         {
          "actor_count": 15,
          "key": "parallel",
          "nsim": 16,
          "repeat": 0,
          "time": 0.7219860553741455,
          "time_type": "total"
         },
         {
          "actor_count": 15,
          "key": "parallel",
          "nsim": 16,
          "repeat": 0,
          "time": 0.0901620388031006,
          "time_type": "repeat"
         },
         {
          "actor_count": 1,
          "key": "serial",
          "nsim": 16,
          "repeat": 0,
          "time": 0.06781554222106934,
          "time_type": "load"
         },
         {
          "actor_count": 1,
          "key": "serial",
          "nsim": 16,
          "repeat": 0,
          "time": 0.48685860633850103,
          "time_type": "simulate"
         },
         {
          "actor_count": 1,
          "key": "serial",
          "nsim": 16,
          "repeat": 0,
          "time": 0.5546741485595703,
          "time_type": "total"
         },
         {
          "actor_count": 1,
          "key": "serial",
          "nsim": 16,
          "repeat": 0,
          "time": 0.3850433826446533,
          "time_type": "repeat"
         },
         {
          "actor_count": 15,
          "key": "parallel",
          "nsim": 16,
          "repeat": 1,
          "time": 0.016016483306884766,
          "time_type": "load"
         },
         {
          "actor_count": 15,
          "key": "parallel",
          "nsim": 16,
          "repeat": 1,
          "time": 3.2284150123596187,
          "time_type": "simulate"
         },
         {
          "actor_count": 15,
          "key": "parallel",
          "nsim": 16,
          "repeat": 1,
          "time": 3.244431495666504,
          "time_type": "total"
         },
         {
          "actor_count": 15,
          "key": "parallel",
          "nsim": 16,
          "repeat": 1,
          "time": 0.07633662223815918,
          "time_type": "repeat"
         },
         {
          "actor_count": 1,
          "key": "serial",
          "nsim": 16,
          "repeat": 1,
          "time": 0.0677788257598877,
          "time_type": "load"
         },
         {
          "actor_count": 1,
          "key": "serial",
          "nsim": 16,
          "repeat": 1,
          "time": 0.42859911918640137,
          "time_type": "simulate"
         },
         {
          "actor_count": 1,
          "key": "serial",
          "nsim": 16,
          "repeat": 1,
          "time": 0.496377944946289,
          "time_type": "total"
         },
         {
          "actor_count": 1,
          "key": "serial",
          "nsim": 16,
          "repeat": 1,
          "time": 0.3878936767578125,
          "time_type": "repeat"
         },
         {
          "actor_count": 15,
          "key": "parallel",
          "nsim": 16,
          "repeat": 2,
          "time": 0.01814889907836914,
          "time_type": "load"
         },
         {
          "actor_count": 15,
          "key": "parallel",
          "nsim": 16,
          "repeat": 2,
          "time": 0.6503486633300781,
          "time_type": "simulate"
         },
         {
          "actor_count": 15,
          "key": "parallel",
          "nsim": 16,
          "repeat": 2,
          "time": 0.6684975624084473,
          "time_type": "total"
         },
         {
          "actor_count": 15,
          "key": "parallel",
          "nsim": 16,
          "repeat": 2,
          "time": 0.07979607582092285,
          "time_type": "repeat"
         },
         {
          "actor_count": 1,
          "key": "serial",
          "nsim": 16,
          "repeat": 2,
          "time": 0.06797337532043457,
          "time_type": "load"
         },
         {
          "actor_count": 1,
          "key": "serial",
          "nsim": 16,
          "repeat": 2,
          "time": 0.4577963352203369,
          "time_type": "simulate"
         },
         {
          "actor_count": 1,
          "key": "serial",
          "nsim": 16,
          "repeat": 2,
          "time": 0.5257697105407715,
          "time_type": "total"
         },
         {
          "actor_count": 1,
          "key": "serial",
          "nsim": 16,
          "repeat": 2,
          "time": 0.3742988109588623,
          "time_type": "repeat"
         },
         {
          "actor_count": 15,
          "key": "parallel",
          "nsim": 32,
          "repeat": 0,
          "time": 0.013860225677490234,
          "time_type": "load"
         },
         {
          "actor_count": 15,
          "key": "parallel",
          "nsim": 32,
          "repeat": 0,
          "time": 0.7878584861755371,
          "time_type": "simulate"
         },
         {
          "actor_count": 15,
          "key": "parallel",
          "nsim": 32,
          "repeat": 0,
          "time": 0.8017187118530273,
          "time_type": "total"
         },
         {
          "actor_count": 15,
          "key": "parallel",
          "nsim": 32,
          "repeat": 0,
          "time": 0.15230560302734375,
          "time_type": "repeat"
         },
         {
          "actor_count": 1,
          "key": "serial",
          "nsim": 32,
          "repeat": 0,
          "time": 0.06524801254272461,
          "time_type": "load"
         },
         {
          "actor_count": 1,
          "key": "serial",
          "nsim": 32,
          "repeat": 0,
          "time": 0.7960813045501709,
          "time_type": "simulate"
         },
         {
          "actor_count": 1,
          "key": "serial",
          "nsim": 32,
          "repeat": 0,
          "time": 0.8613293170928955,
          "time_type": "total"
         },
         {
          "actor_count": 1,
          "key": "serial",
          "nsim": 32,
          "repeat": 0,
          "time": 0.7235989570617676,
          "time_type": "repeat"
         },
         {
          "actor_count": 15,
          "key": "parallel",
          "nsim": 32,
          "repeat": 1,
          "time": 0.016287803649902344,
          "time_type": "load"
         },
         {
          "actor_count": 15,
          "key": "parallel",
          "nsim": 32,
          "repeat": 1,
          "time": 3.389716386795044,
          "time_type": "simulate"
         },
         {
          "actor_count": 15,
          "key": "parallel",
          "nsim": 32,
          "repeat": 1,
          "time": 3.4060041904449463,
          "time_type": "total"
         },
         {
          "actor_count": 15,
          "key": "parallel",
          "nsim": 32,
          "repeat": 1,
          "time": 0.15499305725097656,
          "time_type": "repeat"
         },
         {
          "actor_count": 1,
          "key": "serial",
          "nsim": 32,
          "repeat": 1,
          "time": 0.06684398651123047,
          "time_type": "load"
         },
         {
          "actor_count": 1,
          "key": "serial",
          "nsim": 32,
          "repeat": 1,
          "time": 0.8477492332458496,
          "time_type": "simulate"
         },
         {
          "actor_count": 1,
          "key": "serial",
          "nsim": 32,
          "repeat": 1,
          "time": 0.91459321975708,
          "time_type": "total"
         },
         {
          "actor_count": 1,
          "key": "serial",
          "nsim": 32,
          "repeat": 1,
          "time": 0.8098254203796387,
          "time_type": "repeat"
         },
         {
          "actor_count": 15,
          "key": "parallel",
          "nsim": 32,
          "repeat": 2,
          "time": 0.02483558654785156,
          "time_type": "load"
         },
         {
          "actor_count": 15,
          "key": "parallel",
          "nsim": 32,
          "repeat": 2,
          "time": 0.7711889743804932,
          "time_type": "simulate"
         },
         {
          "actor_count": 15,
          "key": "parallel",
          "nsim": 32,
          "repeat": 2,
          "time": 0.7960245609283447,
          "time_type": "total"
         },
         {
          "actor_count": 15,
          "key": "parallel",
          "nsim": 32,
          "repeat": 2,
          "time": 0.14884614944458008,
          "time_type": "repeat"
         },
         {
          "actor_count": 1,
          "key": "serial",
          "nsim": 32,
          "repeat": 2,
          "time": 0.07380032539367676,
          "time_type": "load"
         },
         {
          "actor_count": 1,
          "key": "serial",
          "nsim": 32,
          "repeat": 2,
          "time": 0.8434562683105469,
          "time_type": "simulate"
         },
         {
          "actor_count": 1,
          "key": "serial",
          "nsim": 32,
          "repeat": 2,
          "time": 0.9172565937042236,
          "time_type": "total"
         },
         {
          "actor_count": 1,
          "key": "serial",
          "nsim": 32,
          "repeat": 2,
          "time": 0.7880938053131104,
          "time_type": "repeat"
         },
         {
          "actor_count": 15,
          "key": "parallel",
          "nsim": 64,
          "repeat": 0,
          "time": 0.0180361270904541,
          "time_type": "load"
         },
         {
          "actor_count": 15,
          "key": "parallel",
          "nsim": 64,
          "repeat": 0,
          "time": 0.8263225555419922,
          "time_type": "simulate"
         },
         {
          "actor_count": 15,
          "key": "parallel",
          "nsim": 64,
          "repeat": 0,
          "time": 0.8443586826324463,
          "time_type": "total"
         },
         {
          "actor_count": 15,
          "key": "parallel",
          "nsim": 64,
          "repeat": 0,
          "time": 0.2390158176422119,
          "time_type": "repeat"
         },
         {
          "actor_count": 1,
          "key": "serial",
          "nsim": 64,
          "repeat": 0,
          "time": 0.0661153793334961,
          "time_type": "load"
         },
         {
          "actor_count": 1,
          "key": "serial",
          "nsim": 64,
          "repeat": 0,
          "time": 1.5790631771087646,
          "time_type": "simulate"
         },
         {
          "actor_count": 1,
          "key": "serial",
          "nsim": 64,
          "repeat": 0,
          "time": 1.6451785564422607,
          "time_type": "total"
         },
         {
          "actor_count": 1,
          "key": "serial",
          "nsim": 64,
          "repeat": 0,
          "time": 1.4445183277130127,
          "time_type": "repeat"
         },
         {
          "actor_count": 15,
          "key": "parallel",
          "nsim": 64,
          "repeat": 1,
          "time": 0.013159513473510742,
          "time_type": "load"
         },
         {
          "actor_count": 15,
          "key": "parallel",
          "nsim": 64,
          "repeat": 1,
          "time": 3.579220056533813,
          "time_type": "simulate"
         },
         {
          "actor_count": 15,
          "key": "parallel",
          "nsim": 64,
          "repeat": 1,
          "time": 3.5923795700073238,
          "time_type": "total"
         },
         {
          "actor_count": 15,
          "key": "parallel",
          "nsim": 64,
          "repeat": 1,
          "time": 0.2678472995758057,
          "time_type": "repeat"
         },
         {
          "actor_count": 1,
          "key": "serial",
          "nsim": 64,
          "repeat": 1,
          "time": 0.06875181198120117,
          "time_type": "load"
         },
         {
          "actor_count": 1,
          "key": "serial",
          "nsim": 64,
          "repeat": 1,
          "time": 1.6075608730316162,
          "time_type": "simulate"
         },
         {
          "actor_count": 1,
          "key": "serial",
          "nsim": 64,
          "repeat": 1,
          "time": 1.6763126850128174,
          "time_type": "total"
         },
         {
          "actor_count": 1,
          "key": "serial",
          "nsim": 64,
          "repeat": 1,
          "time": 1.5380997657775881,
          "time_type": "repeat"
         },
         {
          "actor_count": 15,
          "key": "parallel",
          "nsim": 64,
          "repeat": 2,
          "time": 0.021853208541870117,
          "time_type": "load"
         },
         {
          "actor_count": 15,
          "key": "parallel",
          "nsim": 64,
          "repeat": 2,
          "time": 0.8529551029205322,
          "time_type": "simulate"
         },
         {
          "actor_count": 15,
          "key": "parallel",
          "nsim": 64,
          "repeat": 2,
          "time": 0.8748083114624023,
          "time_type": "total"
         },
         {
          "actor_count": 15,
          "key": "parallel",
          "nsim": 64,
          "repeat": 2,
          "time": 0.26459360122680664,
          "time_type": "repeat"
         },
         {
          "actor_count": 1,
          "key": "serial",
          "nsim": 64,
          "repeat": 2,
          "time": 0.06812310218811035,
          "time_type": "load"
         },
         {
          "actor_count": 1,
          "key": "serial",
          "nsim": 64,
          "repeat": 2,
          "time": 1.5704092979431152,
          "time_type": "simulate"
         },
         {
          "actor_count": 1,
          "key": "serial",
          "nsim": 64,
          "repeat": 2,
          "time": 1.6385324001312256,
          "time_type": "total"
         },
         {
          "actor_count": 1,
          "key": "serial",
          "nsim": 64,
          "repeat": 2,
          "time": 1.4752073287963867,
          "time_type": "repeat"
         },
         {
          "actor_count": 15,
          "key": "parallel",
          "nsim": 128,
          "repeat": 0,
          "time": 0.01697850227355957,
          "time_type": "load"
         },
         {
          "actor_count": 15,
          "key": "parallel",
          "nsim": 128,
          "repeat": 0,
          "time": 1.0627460479736328,
          "time_type": "simulate"
         },
         {
          "actor_count": 15,
          "key": "parallel",
          "nsim": 128,
          "repeat": 0,
          "time": 1.0797245502471924,
          "time_type": "total"
         },
         {
          "actor_count": 15,
          "key": "parallel",
          "nsim": 128,
          "repeat": 0,
          "time": 0.49650692939758295,
          "time_type": "repeat"
         },
         {
          "actor_count": 1,
          "key": "serial",
          "nsim": 128,
          "repeat": 0,
          "time": 0.06843781471252441,
          "time_type": "load"
         },
         {
          "actor_count": 1,
          "key": "serial",
          "nsim": 128,
          "repeat": 0,
          "time": 3.1485111713409424,
          "time_type": "simulate"
         },
         {
          "actor_count": 1,
          "key": "serial",
          "nsim": 128,
          "repeat": 0,
          "time": 3.216948986053467,
          "time_type": "total"
         },
         {
          "actor_count": 1,
          "key": "serial",
          "nsim": 128,
          "repeat": 0,
          "time": 2.9549598693847656,
          "time_type": "repeat"
         },
         {
          "actor_count": 15,
          "key": "parallel",
          "nsim": 128,
          "repeat": 1,
          "time": 0.011385679244995115,
          "time_type": "load"
         },
         {
          "actor_count": 15,
          "key": "parallel",
          "nsim": 128,
          "repeat": 1,
          "time": 3.736078977584839,
          "time_type": "simulate"
         },
         {
          "actor_count": 15,
          "key": "parallel",
          "nsim": 128,
          "repeat": 1,
          "time": 3.747464656829834,
          "time_type": "total"
         },
         {
          "actor_count": 15,
          "key": "parallel",
          "nsim": 128,
          "repeat": 1,
          "time": 0.4953494071960449,
          "time_type": "repeat"
         },
         {
          "actor_count": 1,
          "key": "serial",
          "nsim": 128,
          "repeat": 1,
          "time": 0.07005071640014647,
          "time_type": "load"
         },
         {
          "actor_count": 1,
          "key": "serial",
          "nsim": 128,
          "repeat": 1,
          "time": 3.1723847389221187,
          "time_type": "simulate"
         },
         {
          "actor_count": 1,
          "key": "serial",
          "nsim": 128,
          "repeat": 1,
          "time": 3.2424354553222656,
          "time_type": "total"
         },
         {
          "actor_count": 1,
          "key": "serial",
          "nsim": 128,
          "repeat": 1,
          "time": 3.056316375732422,
          "time_type": "repeat"
         },
         {
          "actor_count": 15,
          "key": "parallel",
          "nsim": 128,
          "repeat": 2,
          "time": 0.015836000442504883,
          "time_type": "load"
         },
         {
          "actor_count": 15,
          "key": "parallel",
          "nsim": 128,
          "repeat": 2,
          "time": 1.1043477058410645,
          "time_type": "simulate"
         },
         {
          "actor_count": 15,
          "key": "parallel",
          "nsim": 128,
          "repeat": 2,
          "time": 1.1201837062835691,
          "time_type": "total"
         },
         {
          "actor_count": 15,
          "key": "parallel",
          "nsim": 128,
          "repeat": 2,
          "time": 0.5041737556457521,
          "time_type": "repeat"
         },
         {
          "actor_count": 1,
          "key": "serial",
          "nsim": 128,
          "repeat": 2,
          "time": 0.07121610641479492,
          "time_type": "load"
         },
         {
          "actor_count": 1,
          "key": "serial",
          "nsim": 128,
          "repeat": 2,
          "time": 3.1546080112457275,
          "time_type": "simulate"
         },
         {
          "actor_count": 1,
          "key": "serial",
          "nsim": 128,
          "repeat": 2,
          "time": 3.2258241176605225,
          "time_type": "total"
         },
         {
          "actor_count": 1,
          "key": "serial",
          "nsim": 128,
          "repeat": 2,
          "time": 2.975905418395996,
          "time_type": "repeat"
         },
         {
          "actor_count": 15,
          "key": "parallel",
          "nsim": 256,
          "repeat": 0,
          "time": 0.02086734771728516,
          "time_type": "load"
         },
         {
          "actor_count": 15,
          "key": "parallel",
          "nsim": 256,
          "repeat": 0,
          "time": 1.4942877292633057,
          "time_type": "simulate"
         },
         {
          "actor_count": 15,
          "key": "parallel",
          "nsim": 256,
          "repeat": 0,
          "time": 1.5151550769805908,
          "time_type": "total"
         },
         {
          "actor_count": 15,
          "key": "parallel",
          "nsim": 256,
          "repeat": 0,
          "time": 0.941457748413086,
          "time_type": "repeat"
         },
         {
          "actor_count": 1,
          "key": "serial",
          "nsim": 256,
          "repeat": 0,
          "time": 0.06547999382019043,
          "time_type": "load"
         },
         {
          "actor_count": 1,
          "key": "serial",
          "nsim": 256,
          "repeat": 0,
          "time": 6.037593603134155,
          "time_type": "simulate"
         },
         {
          "actor_count": 1,
          "key": "serial",
          "nsim": 256,
          "repeat": 0,
          "time": 6.103073596954347,
          "time_type": "total"
         },
         {
          "actor_count": 1,
          "key": "serial",
          "nsim": 256,
          "repeat": 0,
          "time": 6.038757562637329,
          "time_type": "repeat"
         },
         {
          "actor_count": 15,
          "key": "parallel",
          "nsim": 256,
          "repeat": 1,
          "time": 0.014368295669555662,
          "time_type": "load"
         },
         {
          "actor_count": 15,
          "key": "parallel",
          "nsim": 256,
          "repeat": 1,
          "time": 4.360154151916504,
          "time_type": "simulate"
         },
         {
          "actor_count": 15,
          "key": "parallel",
          "nsim": 256,
          "repeat": 1,
          "time": 4.3745224475860605,
          "time_type": "total"
         },
         {
          "actor_count": 15,
          "key": "parallel",
          "nsim": 256,
          "repeat": 1,
          "time": 0.9665780067443848,
          "time_type": "repeat"
         },
         {
          "actor_count": 1,
          "key": "serial",
          "nsim": 256,
          "repeat": 1,
          "time": 0.07639694213867188,
          "time_type": "load"
         },
         {
          "actor_count": 1,
          "key": "serial",
          "nsim": 256,
          "repeat": 1,
          "time": 6.158496141433716,
          "time_type": "simulate"
         },
         {
          "actor_count": 1,
          "key": "serial",
          "nsim": 256,
          "repeat": 1,
          "time": 6.234893083572388,
          "time_type": "total"
         },
         {
          "actor_count": 1,
          "key": "serial",
          "nsim": 256,
          "repeat": 1,
          "time": 5.937655448913574,
          "time_type": "repeat"
         },
         {
          "actor_count": 15,
          "key": "parallel",
          "nsim": 256,
          "repeat": 2,
          "time": 0.010621309280395508,
          "time_type": "load"
         },
         {
          "actor_count": 15,
          "key": "parallel",
          "nsim": 256,
          "repeat": 2,
          "time": 1.4145982265472412,
          "time_type": "simulate"
         },
         {
          "actor_count": 15,
          "key": "parallel",
          "nsim": 256,
          "repeat": 2,
          "time": 1.4252195358276367,
          "time_type": "total"
         },
         {
          "actor_count": 15,
          "key": "parallel",
          "nsim": 256,
          "repeat": 2,
          "time": 0.8878765106201172,
          "time_type": "repeat"
         },
         {
          "actor_count": 1,
          "key": "serial",
          "nsim": 256,
          "repeat": 2,
          "time": 0.06619119644165039,
          "time_type": "load"
         },
         {
          "actor_count": 1,
          "key": "serial",
          "nsim": 256,
          "repeat": 2,
          "time": 6.046170234680176,
          "time_type": "simulate"
         },
         {
          "actor_count": 1,
          "key": "serial",
          "nsim": 256,
          "repeat": 2,
          "time": 6.112361431121826,
          "time_type": "total"
         },
         {
          "actor_count": 1,
          "key": "serial",
          "nsim": 256,
          "repeat": 2,
          "time": 5.936794519424439,
          "time_type": "repeat"
         },
         {
          "actor_count": 15,
          "key": "parallel",
          "nsim": 512,
          "repeat": 0,
          "time": 0.016846895217895508,
          "time_type": "load"
         },
         {
          "actor_count": 15,
          "key": "parallel",
          "nsim": 512,
          "repeat": 0,
          "time": 2.2061235904693604,
          "time_type": "simulate"
         },
         {
          "actor_count": 15,
          "key": "parallel",
          "nsim": 512,
          "repeat": 0,
          "time": 2.222970485687256,
          "time_type": "total"
         },
         {
          "actor_count": 15,
          "key": "parallel",
          "nsim": 512,
          "repeat": 0,
          "time": 1.6650893688201904,
          "time_type": "repeat"
         },
         {
          "actor_count": 1,
          "key": "serial",
          "nsim": 512,
          "repeat": 0,
          "time": 0.06580567359924316,
          "time_type": "load"
         },
         {
          "actor_count": 1,
          "key": "serial",
          "nsim": 512,
          "repeat": 0,
          "time": 11.988094568252563,
          "time_type": "simulate"
         },
         {
          "actor_count": 1,
          "key": "serial",
          "nsim": 512,
          "repeat": 0,
          "time": 12.053900241851807,
          "time_type": "total"
         },
         {
          "actor_count": 1,
          "key": "serial",
          "nsim": 512,
          "repeat": 0,
          "time": 11.72026777267456,
          "time_type": "repeat"
         },
         {
          "actor_count": 15,
          "key": "parallel",
          "nsim": 512,
          "repeat": 1,
          "time": 0.014323472976684569,
          "time_type": "load"
         },
         {
          "actor_count": 15,
          "key": "parallel",
          "nsim": 512,
          "repeat": 1,
          "time": 4.966697216033936,
          "time_type": "simulate"
         },
         {
          "actor_count": 15,
          "key": "parallel",
          "nsim": 512,
          "repeat": 1,
          "time": 4.98102068901062,
          "time_type": "total"
         },
         {
          "actor_count": 15,
          "key": "parallel",
          "nsim": 512,
          "repeat": 1,
          "time": 1.7757947444915771,
          "time_type": "repeat"
         },
         {
          "actor_count": 1,
          "key": "serial",
          "nsim": 512,
          "repeat": 1,
          "time": 0.0675814151763916,
          "time_type": "load"
         },
         {
          "actor_count": 1,
          "key": "serial",
          "nsim": 512,
          "repeat": 1,
          "time": 12.231733083724976,
          "time_type": "simulate"
         },
         {
          "actor_count": 1,
          "key": "serial",
          "nsim": 512,
          "repeat": 1,
          "time": 12.299314498901367,
          "time_type": "total"
         },
         {
          "actor_count": 1,
          "key": "serial",
          "nsim": 512,
          "repeat": 1,
          "time": 11.946279048919678,
          "time_type": "repeat"
         },
         {
          "actor_count": 15,
          "key": "parallel",
          "nsim": 512,
          "repeat": 2,
          "time": 0.02100396156311035,
          "time_type": "load"
         },
         {
          "actor_count": 15,
          "key": "parallel",
          "nsim": 512,
          "repeat": 2,
          "time": 2.3301212787628174,
          "time_type": "simulate"
         },
         {
          "actor_count": 15,
          "key": "parallel",
          "nsim": 512,
          "repeat": 2,
          "time": 2.351125240325928,
          "time_type": "total"
         },
         {
          "actor_count": 15,
          "key": "parallel",
          "nsim": 512,
          "repeat": 2,
          "time": 1.7094697952270508,
          "time_type": "repeat"
         },
         {
          "actor_count": 1,
          "key": "serial",
          "nsim": 512,
          "repeat": 2,
          "time": 0.06811785697937013,
          "time_type": "load"
         },
         {
          "actor_count": 1,
          "key": "serial",
          "nsim": 512,
          "repeat": 2,
          "time": 12.165183305740356,
          "time_type": "simulate"
         },
         {
          "actor_count": 1,
          "key": "serial",
          "nsim": 512,
          "repeat": 2,
          "time": 12.233301162719727,
          "time_type": "total"
         },
         {
          "actor_count": 1,
          "key": "serial",
          "nsim": 512,
          "repeat": 2,
          "time": 11.9107928276062,
          "time_type": "repeat"
         },
         {
          "actor_count": 15,
          "key": "parallel",
          "nsim": 1024,
          "repeat": 0,
          "time": 0.012537240982055664,
          "time_type": "load"
         },
         {
          "actor_count": 15,
          "key": "parallel",
          "nsim": 1024,
          "repeat": 0,
          "time": 3.8020970821380615,
          "time_type": "simulate"
         },
         {
          "actor_count": 15,
          "key": "parallel",
          "nsim": 1024,
          "repeat": 0,
          "time": 3.8146343231201167,
          "time_type": "total"
         },
         {
          "actor_count": 15,
          "key": "parallel",
          "nsim": 1024,
          "repeat": 0,
          "time": 3.61865496635437,
          "time_type": "repeat"
         },
         {
          "actor_count": 1,
          "key": "serial",
          "nsim": 1024,
          "repeat": 0,
          "time": 0.06763291358947754,
          "time_type": "load"
         },
         {
          "actor_count": 1,
          "key": "serial",
          "nsim": 1024,
          "repeat": 0,
          "time": 23.791168451309204,
          "time_type": "simulate"
         },
         {
          "actor_count": 1,
          "key": "serial",
          "nsim": 1024,
          "repeat": 0,
          "time": 23.85880136489868,
          "time_type": "total"
         },
         {
          "actor_count": 1,
          "key": "serial",
          "nsim": 1024,
          "repeat": 0,
          "time": 23.29818940162659,
          "time_type": "repeat"
         },
         {
          "actor_count": 15,
          "key": "parallel",
          "nsim": 1024,
          "repeat": 1,
          "time": 0.008372306823730469,
          "time_type": "load"
         },
         {
          "actor_count": 15,
          "key": "parallel",
          "nsim": 1024,
          "repeat": 1,
          "time": 6.844318151473999,
          "time_type": "simulate"
         },
         {
          "actor_count": 15,
          "key": "parallel",
          "nsim": 1024,
          "repeat": 1,
          "time": 6.8526904582977295,
          "time_type": "total"
         },
         {
          "actor_count": 15,
          "key": "parallel",
          "nsim": 1024,
          "repeat": 1,
          "time": 7.00499963760376,
          "time_type": "repeat"
         },
         {
          "actor_count": 1,
          "key": "serial",
          "nsim": 1024,
          "repeat": 1,
          "time": 0.08539128303527832,
          "time_type": "load"
         },
         {
          "actor_count": 1,
          "key": "serial",
          "nsim": 1024,
          "repeat": 1,
          "time": 24.295722246170047,
          "time_type": "simulate"
         },
         {
          "actor_count": 1,
          "key": "serial",
          "nsim": 1024,
          "repeat": 1,
          "time": 24.381113529205322,
          "time_type": "total"
         },
         {
          "actor_count": 1,
          "key": "serial",
          "nsim": 1024,
          "repeat": 1,
          "time": 25.20128870010376,
          "time_type": "repeat"
         },
         {
          "actor_count": 15,
          "key": "parallel",
          "nsim": 1024,
          "repeat": 2,
          "time": 0.01220560073852539,
          "time_type": "load"
         },
         {
          "actor_count": 15,
          "key": "parallel",
          "nsim": 1024,
          "repeat": 2,
          "time": 3.8458237648010254,
          "time_type": "simulate"
         },
         {
          "actor_count": 15,
          "key": "parallel",
          "nsim": 1024,
          "repeat": 2,
          "time": 3.8580293655395512,
          "time_type": "total"
         },
         {
          "actor_count": 15,
          "key": "parallel",
          "nsim": 1024,
          "repeat": 2,
          "time": 3.3586025238037114,
          "time_type": "repeat"
         },
         {
          "actor_count": 1,
          "key": "serial",
          "nsim": 1024,
          "repeat": 2,
          "time": 0.06865525245666504,
          "time_type": "load"
         },
         {
          "actor_count": 1,
          "key": "serial",
          "nsim": 1024,
          "repeat": 2,
          "time": 23.51841688156128,
          "time_type": "simulate"
         },
         {
          "actor_count": 1,
          "key": "serial",
          "nsim": 1024,
          "repeat": 2,
          "time": 23.587072134017944,
          "time_type": "total"
         },
         {
          "actor_count": 1,
          "key": "serial",
          "nsim": 1024,
          "repeat": 2,
          "time": 23.44825291633606,
          "time_type": "repeat"
         }
        ]
       },
       "encoding": {
        "color": {
         "field": "key",
         "type": "nominal"
        },
        "column": {
         "field": "time_type",
         "type": "nominal"
        },
        "x": {
         "field": "nsim",
         "type": "nominal"
        },
        "y": {
         "field": "time",
         "scale": {
          "type": "linear"
         },
         "type": "quantitative"
        }
       },
       "mark": "bar",
       "selection": {
        "selector024": {
         "bind": "scales",
         "encodings": [
          "x",
          "y"
         ],
         "type": "interval"
        }
       }
      },
      "image/png": "[encoded data removed]",
      "text/plain": [
       "<VegaLite 3 object>\n",
       "\n",
       "If you see this message, it means the renderer has not been properly enabled\n",
       "for the frontend that you are using. For more information, see\n",
       "https://altair-viz.github.io/user_guide/troubleshooting.html\n"
      ]
     },
     "execution_count": 41,
     "metadata": {},
     "output_type": "execute_result"
    }
   ],
   "source": [
    "import altair as alt\n",
    "alt.renderers.enable('default')\n",
    "\n",
    "chart = alt.Chart(benchmarks).mark_bar().encode(\n",
    "    alt.X('nsim:N'),\n",
    "    alt.Y('time', scale=alt.Scale(type='linear')),\n",
    "    color='key',\n",
    "    column='time_type'\n",
    "    \n",
    ").interactive()\n",
    "\n",
    "chart"
   ]
  },
  {
   "cell_type": "code",
   "execution_count": 49,
   "metadata": {},
   "outputs": [
    {
     "data": {
      "application/vnd.vegalite.v3+json": {
       "$schema": "https://vega.github.io/schema/vega-lite/v3.4.0.json",
       "config": {
        "mark": {
         "tooltip": null
        },
        "view": {
         "height": 300,
         "width": 400
        }
       },
       "data": {
        "name": "data-8914f2aa166bd8f4802ad9cfba8260ba"
       },
       "datasets": {
        "data-8914f2aa166bd8f4802ad9cfba8260ba": [
         {
          "actor_count": 15,
          "key": "parallel",
          "nsim": 1,
          "repeat": 0,
          "time": 0.053847074508666985,
          "time_type": "load"
         },
         {
          "actor_count": 15,
          "key": "parallel",
          "nsim": 1,
          "repeat": 0,
          "time": 2.834742784500122,
          "time_type": "simulate"
         },
         {
          "actor_count": 15,
          "key": "parallel",
          "nsim": 1,
          "repeat": 0,
          "time": 2.8885898590087886,
          "time_type": "total"
         },
         {
          "actor_count": 15,
          "key": "parallel",
          "nsim": 1,
          "repeat": 0,
          "time": 0.05293703079223633,
          "time_type": "repeat"
         },
         {
          "actor_count": 1,
          "key": "serial",
          "nsim": 1,
          "repeat": 0,
          "time": 0.11043047904968263,
          "time_type": "load"
         },
         {
          "actor_count": 1,
          "key": "serial",
          "nsim": 1,
          "repeat": 0,
          "time": 0.07031893730163574,
          "time_type": "simulate"
         },
         {
          "actor_count": 1,
          "key": "serial",
          "nsim": 1,
          "repeat": 0,
          "time": 0.1807494163513184,
          "time_type": "total"
         },
         {
          "actor_count": 1,
          "key": "serial",
          "nsim": 1,
          "repeat": 0,
          "time": 0.029787778854370117,
          "time_type": "repeat"
         },
         {
          "actor_count": 15,
          "key": "parallel",
          "nsim": 1,
          "repeat": 1,
          "time": 0.01634526252746582,
          "time_type": "load"
         },
         {
          "actor_count": 15,
          "key": "parallel",
          "nsim": 1,
          "repeat": 1,
          "time": 0.6252844333648682,
          "time_type": "simulate"
         },
         {
          "actor_count": 15,
          "key": "parallel",
          "nsim": 1,
          "repeat": 1,
          "time": 0.641629695892334,
          "time_type": "total"
         },
         {
          "actor_count": 15,
          "key": "parallel",
          "nsim": 1,
          "repeat": 1,
          "time": 0.03448319435119629,
          "time_type": "repeat"
         },
         {
          "actor_count": 1,
          "key": "serial",
          "nsim": 1,
          "repeat": 1,
          "time": 0.0717010498046875,
          "time_type": "load"
         },
         {
          "actor_count": 1,
          "key": "serial",
          "nsim": 1,
          "repeat": 1,
          "time": 0.04258441925048828,
          "time_type": "simulate"
         },
         {
          "actor_count": 1,
          "key": "serial",
          "nsim": 1,
          "repeat": 1,
          "time": 0.11428546905517578,
          "time_type": "total"
         },
         {
          "actor_count": 1,
          "key": "serial",
          "nsim": 1,
          "repeat": 1,
          "time": 0.0318911075592041,
          "time_type": "repeat"
         },
         {
          "actor_count": 15,
          "key": "parallel",
          "nsim": 1,
          "repeat": 2,
          "time": 0.016678571701049805,
          "time_type": "load"
         },
         {
          "actor_count": 15,
          "key": "parallel",
          "nsim": 1,
          "repeat": 2,
          "time": 0.6346783638000488,
          "time_type": "simulate"
         },
         {
          "actor_count": 15,
          "key": "parallel",
          "nsim": 1,
          "repeat": 2,
          "time": 0.6513569355010986,
          "time_type": "total"
         },
         {
          "actor_count": 15,
          "key": "parallel",
          "nsim": 1,
          "repeat": 2,
          "time": 0.032480716705322266,
          "time_type": "repeat"
         },
         {
          "actor_count": 1,
          "key": "serial",
          "nsim": 1,
          "repeat": 2,
          "time": 0.07116365432739258,
          "time_type": "load"
         },
         {
          "actor_count": 1,
          "key": "serial",
          "nsim": 1,
          "repeat": 2,
          "time": 0.04511260986328125,
          "time_type": "simulate"
         },
         {
          "actor_count": 1,
          "key": "serial",
          "nsim": 1,
          "repeat": 2,
          "time": 0.11627626419067386,
          "time_type": "total"
         },
         {
          "actor_count": 1,
          "key": "serial",
          "nsim": 1,
          "repeat": 2,
          "time": 0.026099681854248047,
          "time_type": "repeat"
         },
         {
          "actor_count": 15,
          "key": "parallel",
          "nsim": 2,
          "repeat": 0,
          "time": 0.0165097713470459,
          "time_type": "load"
         },
         {
          "actor_count": 15,
          "key": "parallel",
          "nsim": 2,
          "repeat": 0,
          "time": 0.5980901718139648,
          "time_type": "simulate"
         },
         {
          "actor_count": 15,
          "key": "parallel",
          "nsim": 2,
          "repeat": 0,
          "time": 0.6145999431610107,
          "time_type": "total"
         },
         {
          "actor_count": 15,
          "key": "parallel",
          "nsim": 2,
          "repeat": 0,
          "time": 0.03556084632873535,
          "time_type": "repeat"
         },
         {
          "actor_count": 1,
          "key": "serial",
          "nsim": 2,
          "repeat": 0,
          "time": 0.07361340522766112,
          "time_type": "load"
         },
         {
          "actor_count": 1,
          "key": "serial",
          "nsim": 2,
          "repeat": 0,
          "time": 0.08084845542907715,
          "time_type": "simulate"
         },
         {
          "actor_count": 1,
          "key": "serial",
          "nsim": 2,
          "repeat": 0,
          "time": 0.15446186065673828,
          "time_type": "total"
         },
         {
          "actor_count": 1,
          "key": "serial",
          "nsim": 2,
          "repeat": 0,
          "time": 0.09376907348632812,
          "time_type": "repeat"
         },
         {
          "actor_count": 15,
          "key": "parallel",
          "nsim": 2,
          "repeat": 1,
          "time": 0.014137983322143556,
          "time_type": "load"
         },
         {
          "actor_count": 15,
          "key": "parallel",
          "nsim": 2,
          "repeat": 1,
          "time": 3.2271425724029537,
          "time_type": "simulate"
         },
         {
          "actor_count": 15,
          "key": "parallel",
          "nsim": 2,
          "repeat": 1,
          "time": 3.2412805557250977,
          "time_type": "total"
         },
         {
          "actor_count": 15,
          "key": "parallel",
          "nsim": 2,
          "repeat": 1,
          "time": 0.03410792350769043,
          "time_type": "repeat"
         },
         {
          "actor_count": 1,
          "key": "serial",
          "nsim": 2,
          "repeat": 1,
          "time": 0.1071186065673828,
          "time_type": "load"
         },
         {
          "actor_count": 1,
          "key": "serial",
          "nsim": 2,
          "repeat": 1,
          "time": 0.05644822120666504,
          "time_type": "simulate"
         },
         {
          "actor_count": 1,
          "key": "serial",
          "nsim": 2,
          "repeat": 1,
          "time": 0.16356682777404785,
          "time_type": "total"
         },
         {
          "actor_count": 1,
          "key": "serial",
          "nsim": 2,
          "repeat": 1,
          "time": 0.056363105773925774,
          "time_type": "repeat"
         },
         {
          "actor_count": 15,
          "key": "parallel",
          "nsim": 2,
          "repeat": 2,
          "time": 0.013872861862182615,
          "time_type": "load"
         },
         {
          "actor_count": 15,
          "key": "parallel",
          "nsim": 2,
          "repeat": 2,
          "time": 0.6575555801391602,
          "time_type": "simulate"
         },
         {
          "actor_count": 15,
          "key": "parallel",
          "nsim": 2,
          "repeat": 2,
          "time": 0.6714284420013428,
          "time_type": "total"
         },
         {
          "actor_count": 15,
          "key": "parallel",
          "nsim": 2,
          "repeat": 2,
          "time": 0.03558659553527832,
          "time_type": "repeat"
         },
         {
          "actor_count": 1,
          "key": "serial",
          "nsim": 2,
          "repeat": 2,
          "time": 0.07060027122497559,
          "time_type": "load"
         },
         {
          "actor_count": 1,
          "key": "serial",
          "nsim": 2,
          "repeat": 2,
          "time": 0.05536842346191406,
          "time_type": "simulate"
         },
         {
          "actor_count": 1,
          "key": "serial",
          "nsim": 2,
          "repeat": 2,
          "time": 0.12596869468688965,
          "time_type": "total"
         },
         {
          "actor_count": 1,
          "key": "serial",
          "nsim": 2,
          "repeat": 2,
          "time": 0.053821802139282234,
          "time_type": "repeat"
         },
         {
          "actor_count": 15,
          "key": "parallel",
          "nsim": 4,
          "repeat": 0,
          "time": 0.012439250946044922,
          "time_type": "load"
         },
         {
          "actor_count": 15,
          "key": "parallel",
          "nsim": 4,
          "repeat": 0,
          "time": 0.6537168025970459,
          "time_type": "simulate"
         },
         {
          "actor_count": 15,
          "key": "parallel",
          "nsim": 4,
          "repeat": 0,
          "time": 0.6661560535430908,
          "time_type": "total"
         },
         {
          "actor_count": 15,
          "key": "parallel",
          "nsim": 4,
          "repeat": 0,
          "time": 0.048450231552124016,
          "time_type": "repeat"
         },
         {
          "actor_count": 1,
          "key": "serial",
          "nsim": 4,
          "repeat": 0,
          "time": 0.07170629501342772,
          "time_type": "load"
         },
         {
          "actor_count": 1,
          "key": "serial",
          "nsim": 4,
          "repeat": 0,
          "time": 0.13632655143737793,
          "time_type": "simulate"
         },
         {
          "actor_count": 1,
          "key": "serial",
          "nsim": 4,
          "repeat": 0,
          "time": 0.20803284645080566,
          "time_type": "total"
         },
         {
          "actor_count": 1,
          "key": "serial",
          "nsim": 4,
          "repeat": 0,
          "time": 0.10324597358703612,
          "time_type": "repeat"
         },
         {
          "actor_count": 15,
          "key": "parallel",
          "nsim": 4,
          "repeat": 1,
          "time": 0.008928775787353516,
          "time_type": "load"
         },
         {
          "actor_count": 15,
          "key": "parallel",
          "nsim": 4,
          "repeat": 1,
          "time": 3.2876923084259038,
          "time_type": "simulate"
         },
         {
          "actor_count": 15,
          "key": "parallel",
          "nsim": 4,
          "repeat": 1,
          "time": 3.296621084213257,
          "time_type": "total"
         },
         {
          "actor_count": 15,
          "key": "parallel",
          "nsim": 4,
          "repeat": 1,
          "time": 0.049437761306762695,
          "time_type": "repeat"
         },
         {
          "actor_count": 1,
          "key": "serial",
          "nsim": 4,
          "repeat": 1,
          "time": 0.07545685768127441,
          "time_type": "load"
         },
         {
          "actor_count": 1,
          "key": "serial",
          "nsim": 4,
          "repeat": 1,
          "time": 0.2169506549835205,
          "time_type": "simulate"
         },
         {
          "actor_count": 1,
          "key": "serial",
          "nsim": 4,
          "repeat": 1,
          "time": 0.2924075126647949,
          "time_type": "total"
         },
         {
          "actor_count": 1,
          "key": "serial",
          "nsim": 4,
          "repeat": 1,
          "time": 0.16721248626708984,
          "time_type": "repeat"
         },
         {
          "actor_count": 15,
          "key": "parallel",
          "nsim": 4,
          "repeat": 2,
          "time": 0.022194623947143555,
          "time_type": "load"
         },
         {
          "actor_count": 15,
          "key": "parallel",
          "nsim": 4,
          "repeat": 2,
          "time": 0.6202237606048584,
          "time_type": "simulate"
         },
         {
          "actor_count": 15,
          "key": "parallel",
          "nsim": 4,
          "repeat": 2,
          "time": 0.6424183845520021,
          "time_type": "total"
         },
         {
          "actor_count": 15,
          "key": "parallel",
          "nsim": 4,
          "repeat": 2,
          "time": 0.039028167724609375,
          "time_type": "repeat"
         },
         {
          "actor_count": 1,
          "key": "serial",
          "nsim": 4,
          "repeat": 2,
          "time": 0.06837248802185059,
          "time_type": "load"
         },
         {
          "actor_count": 1,
          "key": "serial",
          "nsim": 4,
          "repeat": 2,
          "time": 0.11954140663146973,
          "time_type": "simulate"
         },
         {
          "actor_count": 1,
          "key": "serial",
          "nsim": 4,
          "repeat": 2,
          "time": 0.1879138946533203,
          "time_type": "total"
         },
         {
          "actor_count": 1,
          "key": "serial",
          "nsim": 4,
          "repeat": 2,
          "time": 0.11112475395202637,
          "time_type": "repeat"
         },
         {
          "actor_count": 15,
          "key": "parallel",
          "nsim": 8,
          "repeat": 0,
          "time": 0.013366460800170898,
          "time_type": "load"
         },
         {
          "actor_count": 15,
          "key": "parallel",
          "nsim": 8,
          "repeat": 0,
          "time": 0.6211874485015869,
          "time_type": "simulate"
         },
         {
          "actor_count": 15,
          "key": "parallel",
          "nsim": 8,
          "repeat": 0,
          "time": 0.6345539093017578,
          "time_type": "total"
         },
         {
          "actor_count": 15,
          "key": "parallel",
          "nsim": 8,
          "repeat": 0,
          "time": 0.05152177810668945,
          "time_type": "repeat"
         },
         {
          "actor_count": 1,
          "key": "serial",
          "nsim": 8,
          "repeat": 0,
          "time": 0.06455636024475098,
          "time_type": "load"
         },
         {
          "actor_count": 1,
          "key": "serial",
          "nsim": 8,
          "repeat": 0,
          "time": 0.2424342632293701,
          "time_type": "simulate"
         },
         {
          "actor_count": 1,
          "key": "serial",
          "nsim": 8,
          "repeat": 0,
          "time": 0.3069906234741211,
          "time_type": "total"
         },
         {
          "actor_count": 1,
          "key": "serial",
          "nsim": 8,
          "repeat": 0,
          "time": 0.1919894218444824,
          "time_type": "repeat"
         },
         {
          "actor_count": 15,
          "key": "parallel",
          "nsim": 8,
          "repeat": 1,
          "time": 0.012973546981811523,
          "time_type": "load"
         },
         {
          "actor_count": 15,
          "key": "parallel",
          "nsim": 8,
          "repeat": 1,
          "time": 3.4793856143951416,
          "time_type": "simulate"
         },
         {
          "actor_count": 15,
          "key": "parallel",
          "nsim": 8,
          "repeat": 1,
          "time": 3.492359161376953,
          "time_type": "total"
         },
         {
          "actor_count": 15,
          "key": "parallel",
          "nsim": 8,
          "repeat": 1,
          "time": 0.05636000633239746,
          "time_type": "repeat"
         },
         {
          "actor_count": 1,
          "key": "serial",
          "nsim": 8,
          "repeat": 1,
          "time": 0.06709456443786621,
          "time_type": "load"
         },
         {
          "actor_count": 1,
          "key": "serial",
          "nsim": 8,
          "repeat": 1,
          "time": 0.3586854934692383,
          "time_type": "simulate"
         },
         {
          "actor_count": 1,
          "key": "serial",
          "nsim": 8,
          "repeat": 1,
          "time": 0.4257800579071045,
          "time_type": "total"
         },
         {
          "actor_count": 1,
          "key": "serial",
          "nsim": 8,
          "repeat": 1,
          "time": 0.187938928604126,
          "time_type": "repeat"
         },
         {
          "actor_count": 15,
          "key": "parallel",
          "nsim": 8,
          "repeat": 2,
          "time": 0.019819021224975586,
          "time_type": "load"
         },
         {
          "actor_count": 15,
          "key": "parallel",
          "nsim": 8,
          "repeat": 2,
          "time": 0.7167675495147705,
          "time_type": "simulate"
         },
         {
          "actor_count": 15,
          "key": "parallel",
          "nsim": 8,
          "repeat": 2,
          "time": 0.7365865707397461,
          "time_type": "total"
         },
         {
          "actor_count": 15,
          "key": "parallel",
          "nsim": 8,
          "repeat": 2,
          "time": 0.05486202239990234,
          "time_type": "repeat"
         },
         {
          "actor_count": 1,
          "key": "serial",
          "nsim": 8,
          "repeat": 2,
          "time": 0.06998467445373535,
          "time_type": "load"
         },
         {
          "actor_count": 1,
          "key": "serial",
          "nsim": 8,
          "repeat": 2,
          "time": 0.25211000442504883,
          "time_type": "simulate"
         },
         {
          "actor_count": 1,
          "key": "serial",
          "nsim": 8,
          "repeat": 2,
          "time": 0.3220946788787842,
          "time_type": "total"
         },
         {
          "actor_count": 1,
          "key": "serial",
          "nsim": 8,
          "repeat": 2,
          "time": 0.19546198844909668,
          "time_type": "repeat"
         },
         {
          "actor_count": 15,
          "key": "parallel",
          "nsim": 16,
          "repeat": 0,
          "time": 0.016231536865234375,
          "time_type": "load"
         },
         {
          "actor_count": 15,
          "key": "parallel",
          "nsim": 16,
          "repeat": 0,
          "time": 0.7057545185089111,
          "time_type": "simulate"
         },
         {
          "actor_count": 15,
          "key": "parallel",
          "nsim": 16,
          "repeat": 0,
          "time": 0.7219860553741455,
          "time_type": "total"
         },
         {
          "actor_count": 15,
          "key": "parallel",
          "nsim": 16,
          "repeat": 0,
          "time": 0.0901620388031006,
          "time_type": "repeat"
         },
         {
          "actor_count": 1,
          "key": "serial",
          "nsim": 16,
          "repeat": 0,
          "time": 0.06781554222106934,
          "time_type": "load"
         },
         {
          "actor_count": 1,
          "key": "serial",
          "nsim": 16,
          "repeat": 0,
          "time": 0.48685860633850103,
          "time_type": "simulate"
         },
         {
          "actor_count": 1,
          "key": "serial",
          "nsim": 16,
          "repeat": 0,
          "time": 0.5546741485595703,
          "time_type": "total"
         },
         {
          "actor_count": 1,
          "key": "serial",
          "nsim": 16,
          "repeat": 0,
          "time": 0.3850433826446533,
          "time_type": "repeat"
         },
         {
          "actor_count": 15,
          "key": "parallel",
          "nsim": 16,
          "repeat": 1,
          "time": 0.016016483306884766,
          "time_type": "load"
         },
         {
          "actor_count": 15,
          "key": "parallel",
          "nsim": 16,
          "repeat": 1,
          "time": 3.2284150123596187,
          "time_type": "simulate"
         },
         {
          "actor_count": 15,
          "key": "parallel",
          "nsim": 16,
          "repeat": 1,
          "time": 3.244431495666504,
          "time_type": "total"
         },
         {
          "actor_count": 15,
          "key": "parallel",
          "nsim": 16,
          "repeat": 1,
          "time": 0.07633662223815918,
          "time_type": "repeat"
         },
         {
          "actor_count": 1,
          "key": "serial",
          "nsim": 16,
          "repeat": 1,
          "time": 0.0677788257598877,
          "time_type": "load"
         },
         {
          "actor_count": 1,
          "key": "serial",
          "nsim": 16,
          "repeat": 1,
          "time": 0.42859911918640137,
          "time_type": "simulate"
         },
         {
          "actor_count": 1,
          "key": "serial",
          "nsim": 16,
          "repeat": 1,
          "time": 0.496377944946289,
          "time_type": "total"
         },
         {
          "actor_count": 1,
          "key": "serial",
          "nsim": 16,
          "repeat": 1,
          "time": 0.3878936767578125,
          "time_type": "repeat"
         },
         {
          "actor_count": 15,
          "key": "parallel",
          "nsim": 16,
          "repeat": 2,
          "time": 0.01814889907836914,
          "time_type": "load"
         },
         {
          "actor_count": 15,
          "key": "parallel",
          "nsim": 16,
          "repeat": 2,
          "time": 0.6503486633300781,
          "time_type": "simulate"
         },
         {
          "actor_count": 15,
          "key": "parallel",
          "nsim": 16,
          "repeat": 2,
          "time": 0.6684975624084473,
          "time_type": "total"
         },
         {
          "actor_count": 15,
          "key": "parallel",
          "nsim": 16,
          "repeat": 2,
          "time": 0.07979607582092285,
          "time_type": "repeat"
         },
         {
          "actor_count": 1,
          "key": "serial",
          "nsim": 16,
          "repeat": 2,
          "time": 0.06797337532043457,
          "time_type": "load"
         },
         {
          "actor_count": 1,
          "key": "serial",
          "nsim": 16,
          "repeat": 2,
          "time": 0.4577963352203369,
          "time_type": "simulate"
         },
         {
          "actor_count": 1,
          "key": "serial",
          "nsim": 16,
          "repeat": 2,
          "time": 0.5257697105407715,
          "time_type": "total"
         },
         {
          "actor_count": 1,
          "key": "serial",
          "nsim": 16,
          "repeat": 2,
          "time": 0.3742988109588623,
          "time_type": "repeat"
         },
         {
          "actor_count": 15,
          "key": "parallel",
          "nsim": 32,
          "repeat": 0,
          "time": 0.013860225677490234,
          "time_type": "load"
         },
         {
          "actor_count": 15,
          "key": "parallel",
          "nsim": 32,
          "repeat": 0,
          "time": 0.7878584861755371,
          "time_type": "simulate"
         },
         {
          "actor_count": 15,
          "key": "parallel",
          "nsim": 32,
          "repeat": 0,
          "time": 0.8017187118530273,
          "time_type": "total"
         },
         {
          "actor_count": 15,
          "key": "parallel",
          "nsim": 32,
          "repeat": 0,
          "time": 0.15230560302734375,
          "time_type": "repeat"
         },
         {
          "actor_count": 1,
          "key": "serial",
          "nsim": 32,
          "repeat": 0,
          "time": 0.06524801254272461,
          "time_type": "load"
         },
         {
          "actor_count": 1,
          "key": "serial",
          "nsim": 32,
          "repeat": 0,
          "time": 0.7960813045501709,
          "time_type": "simulate"
         },
         {
          "actor_count": 1,
          "key": "serial",
          "nsim": 32,
          "repeat": 0,
          "time": 0.8613293170928955,
          "time_type": "total"
         },
         {
          "actor_count": 1,
          "key": "serial",
          "nsim": 32,
          "repeat": 0,
          "time": 0.7235989570617676,
          "time_type": "repeat"
         },
         {
          "actor_count": 15,
          "key": "parallel",
          "nsim": 32,
          "repeat": 1,
          "time": 0.016287803649902344,
          "time_type": "load"
         },
         {
          "actor_count": 15,
          "key": "parallel",
          "nsim": 32,
          "repeat": 1,
          "time": 3.389716386795044,
          "time_type": "simulate"
         },
         {
          "actor_count": 15,
          "key": "parallel",
          "nsim": 32,
          "repeat": 1,
          "time": 3.4060041904449463,
          "time_type": "total"
         },
         {
          "actor_count": 15,
          "key": "parallel",
          "nsim": 32,
          "repeat": 1,
          "time": 0.15499305725097656,
          "time_type": "repeat"
         },
         {
          "actor_count": 1,
          "key": "serial",
          "nsim": 32,
          "repeat": 1,
          "time": 0.06684398651123047,
          "time_type": "load"
         },
         {
          "actor_count": 1,
          "key": "serial",
          "nsim": 32,
          "repeat": 1,
          "time": 0.8477492332458496,
          "time_type": "simulate"
         },
         {
          "actor_count": 1,
          "key": "serial",
          "nsim": 32,
          "repeat": 1,
          "time": 0.91459321975708,
          "time_type": "total"
         },
         {
          "actor_count": 1,
          "key": "serial",
          "nsim": 32,
          "repeat": 1,
          "time": 0.8098254203796387,
          "time_type": "repeat"
         },
         {
          "actor_count": 15,
          "key": "parallel",
          "nsim": 32,
          "repeat": 2,
          "time": 0.02483558654785156,
          "time_type": "load"
         },
         {
          "actor_count": 15,
          "key": "parallel",
          "nsim": 32,
          "repeat": 2,
          "time": 0.7711889743804932,
          "time_type": "simulate"
         },
         {
          "actor_count": 15,
          "key": "parallel",
          "nsim": 32,
          "repeat": 2,
          "time": 0.7960245609283447,
          "time_type": "total"
         },
         {
          "actor_count": 15,
          "key": "parallel",
          "nsim": 32,
          "repeat": 2,
          "time": 0.14884614944458008,
          "time_type": "repeat"
         },
         {
          "actor_count": 1,
          "key": "serial",
          "nsim": 32,
          "repeat": 2,
          "time": 0.07380032539367676,
          "time_type": "load"
         },
         {
          "actor_count": 1,
          "key": "serial",
          "nsim": 32,
          "repeat": 2,
          "time": 0.8434562683105469,
          "time_type": "simulate"
         },
         {
          "actor_count": 1,
          "key": "serial",
          "nsim": 32,
          "repeat": 2,
          "time": 0.9172565937042236,
          "time_type": "total"
         },
         {
          "actor_count": 1,
          "key": "serial",
          "nsim": 32,
          "repeat": 2,
          "time": 0.7880938053131104,
          "time_type": "repeat"
         },
         {
          "actor_count": 15,
          "key": "parallel",
          "nsim": 64,
          "repeat": 0,
          "time": 0.0180361270904541,
          "time_type": "load"
         },
         {
          "actor_count": 15,
          "key": "parallel",
          "nsim": 64,
          "repeat": 0,
          "time": 0.8263225555419922,
          "time_type": "simulate"
         },
         {
          "actor_count": 15,
          "key": "parallel",
          "nsim": 64,
          "repeat": 0,
          "time": 0.8443586826324463,
          "time_type": "total"
         },
         {
          "actor_count": 15,
          "key": "parallel",
          "nsim": 64,
          "repeat": 0,
          "time": 0.2390158176422119,
          "time_type": "repeat"
         },
         {
          "actor_count": 1,
          "key": "serial",
          "nsim": 64,
          "repeat": 0,
          "time": 0.0661153793334961,
          "time_type": "load"
         },
         {
          "actor_count": 1,
          "key": "serial",
          "nsim": 64,
          "repeat": 0,
          "time": 1.5790631771087646,
          "time_type": "simulate"
         },
         {
          "actor_count": 1,
          "key": "serial",
          "nsim": 64,
          "repeat": 0,
          "time": 1.6451785564422607,
          "time_type": "total"
         },
         {
          "actor_count": 1,
          "key": "serial",
          "nsim": 64,
          "repeat": 0,
          "time": 1.4445183277130127,
          "time_type": "repeat"
         },
         {
          "actor_count": 15,
          "key": "parallel",
          "nsim": 64,
          "repeat": 1,
          "time": 0.013159513473510742,
          "time_type": "load"
         },
         {
          "actor_count": 15,
          "key": "parallel",
          "nsim": 64,
          "repeat": 1,
          "time": 3.579220056533813,
          "time_type": "simulate"
         },
         {
          "actor_count": 15,
          "key": "parallel",
          "nsim": 64,
          "repeat": 1,
          "time": 3.5923795700073238,
          "time_type": "total"
         },
         {
          "actor_count": 15,
          "key": "parallel",
          "nsim": 64,
          "repeat": 1,
          "time": 0.2678472995758057,
          "time_type": "repeat"
         },
         {
          "actor_count": 1,
          "key": "serial",
          "nsim": 64,
          "repeat": 1,
          "time": 0.06875181198120117,
          "time_type": "load"
         },
         {
          "actor_count": 1,
          "key": "serial",
          "nsim": 64,
          "repeat": 1,
          "time": 1.6075608730316162,
          "time_type": "simulate"
         },
         {
          "actor_count": 1,
          "key": "serial",
          "nsim": 64,
          "repeat": 1,
          "time": 1.6763126850128174,
          "time_type": "total"
         },
         {
          "actor_count": 1,
          "key": "serial",
          "nsim": 64,
          "repeat": 1,
          "time": 1.5380997657775881,
          "time_type": "repeat"
         },
         {
          "actor_count": 15,
          "key": "parallel",
          "nsim": 64,
          "repeat": 2,
          "time": 0.021853208541870117,
          "time_type": "load"
         },
         {
          "actor_count": 15,
          "key": "parallel",
          "nsim": 64,
          "repeat": 2,
          "time": 0.8529551029205322,
          "time_type": "simulate"
         },
         {
          "actor_count": 15,
          "key": "parallel",
          "nsim": 64,
          "repeat": 2,
          "time": 0.8748083114624023,
          "time_type": "total"
         },
         {
          "actor_count": 15,
          "key": "parallel",
          "nsim": 64,
          "repeat": 2,
          "time": 0.26459360122680664,
          "time_type": "repeat"
         },
         {
          "actor_count": 1,
          "key": "serial",
          "nsim": 64,
          "repeat": 2,
          "time": 0.06812310218811035,
          "time_type": "load"
         },
         {
          "actor_count": 1,
          "key": "serial",
          "nsim": 64,
          "repeat": 2,
          "time": 1.5704092979431152,
          "time_type": "simulate"
         },
         {
          "actor_count": 1,
          "key": "serial",
          "nsim": 64,
          "repeat": 2,
          "time": 1.6385324001312256,
          "time_type": "total"
         },
         {
          "actor_count": 1,
          "key": "serial",
          "nsim": 64,
          "repeat": 2,
          "time": 1.4752073287963867,
          "time_type": "repeat"
         },
         {
          "actor_count": 15,
          "key": "parallel",
          "nsim": 128,
          "repeat": 0,
          "time": 0.01697850227355957,
          "time_type": "load"
         },
         {
          "actor_count": 15,
          "key": "parallel",
          "nsim": 128,
          "repeat": 0,
          "time": 1.0627460479736328,
          "time_type": "simulate"
         },
         {
          "actor_count": 15,
          "key": "parallel",
          "nsim": 128,
          "repeat": 0,
          "time": 1.0797245502471924,
          "time_type": "total"
         },
         {
          "actor_count": 15,
          "key": "parallel",
          "nsim": 128,
          "repeat": 0,
          "time": 0.49650692939758295,
          "time_type": "repeat"
         },
         {
          "actor_count": 1,
          "key": "serial",
          "nsim": 128,
          "repeat": 0,
          "time": 0.06843781471252441,
          "time_type": "load"
         },
         {
          "actor_count": 1,
          "key": "serial",
          "nsim": 128,
          "repeat": 0,
          "time": 3.1485111713409424,
          "time_type": "simulate"
         },
         {
          "actor_count": 1,
          "key": "serial",
          "nsim": 128,
          "repeat": 0,
          "time": 3.216948986053467,
          "time_type": "total"
         },
         {
          "actor_count": 1,
          "key": "serial",
          "nsim": 128,
          "repeat": 0,
          "time": 2.9549598693847656,
          "time_type": "repeat"
         },
         {
          "actor_count": 15,
          "key": "parallel",
          "nsim": 128,
          "repeat": 1,
          "time": 0.011385679244995115,
          "time_type": "load"
         },
         {
          "actor_count": 15,
          "key": "parallel",
          "nsim": 128,
          "repeat": 1,
          "time": 3.736078977584839,
          "time_type": "simulate"
         },
         {
          "actor_count": 15,
          "key": "parallel",
          "nsim": 128,
          "repeat": 1,
          "time": 3.747464656829834,
          "time_type": "total"
         },
         {
          "actor_count": 15,
          "key": "parallel",
          "nsim": 128,
          "repeat": 1,
          "time": 0.4953494071960449,
          "time_type": "repeat"
         },
         {
          "actor_count": 1,
          "key": "serial",
          "nsim": 128,
          "repeat": 1,
          "time": 0.07005071640014647,
          "time_type": "load"
         },
         {
          "actor_count": 1,
          "key": "serial",
          "nsim": 128,
          "repeat": 1,
          "time": 3.1723847389221187,
          "time_type": "simulate"
         },
         {
          "actor_count": 1,
          "key": "serial",
          "nsim": 128,
          "repeat": 1,
          "time": 3.2424354553222656,
          "time_type": "total"
         },
         {
          "actor_count": 1,
          "key": "serial",
          "nsim": 128,
          "repeat": 1,
          "time": 3.056316375732422,
          "time_type": "repeat"
         },
         {
          "actor_count": 15,
          "key": "parallel",
          "nsim": 128,
          "repeat": 2,
          "time": 0.015836000442504883,
          "time_type": "load"
         },
         {
          "actor_count": 15,
          "key": "parallel",
          "nsim": 128,
          "repeat": 2,
          "time": 1.1043477058410645,
          "time_type": "simulate"
         },
         {
          "actor_count": 15,
          "key": "parallel",
          "nsim": 128,
          "repeat": 2,
          "time": 1.1201837062835691,
          "time_type": "total"
         },
         {
          "actor_count": 15,
          "key": "parallel",
          "nsim": 128,
          "repeat": 2,
          "time": 0.5041737556457521,
          "time_type": "repeat"
         },
         {
          "actor_count": 1,
          "key": "serial",
          "nsim": 128,
          "repeat": 2,
          "time": 0.07121610641479492,
          "time_type": "load"
         },
         {
          "actor_count": 1,
          "key": "serial",
          "nsim": 128,
          "repeat": 2,
          "time": 3.1546080112457275,
          "time_type": "simulate"
         },
         {
          "actor_count": 1,
          "key": "serial",
          "nsim": 128,
          "repeat": 2,
          "time": 3.2258241176605225,
          "time_type": "total"
         },
         {
          "actor_count": 1,
          "key": "serial",
          "nsim": 128,
          "repeat": 2,
          "time": 2.975905418395996,
          "time_type": "repeat"
         },
         {
          "actor_count": 15,
          "key": "parallel",
          "nsim": 256,
          "repeat": 0,
          "time": 0.02086734771728516,
          "time_type": "load"
         },
         {
          "actor_count": 15,
          "key": "parallel",
          "nsim": 256,
          "repeat": 0,
          "time": 1.4942877292633057,
          "time_type": "simulate"
         },
         {
          "actor_count": 15,
          "key": "parallel",
          "nsim": 256,
          "repeat": 0,
          "time": 1.5151550769805908,
          "time_type": "total"
         },
         {
          "actor_count": 15,
          "key": "parallel",
          "nsim": 256,
          "repeat": 0,
          "time": 0.941457748413086,
          "time_type": "repeat"
         },
         {
          "actor_count": 1,
          "key": "serial",
          "nsim": 256,
          "repeat": 0,
          "time": 0.06547999382019043,
          "time_type": "load"
         },
         {
          "actor_count": 1,
          "key": "serial",
          "nsim": 256,
          "repeat": 0,
          "time": 6.037593603134155,
          "time_type": "simulate"
         },
         {
          "actor_count": 1,
          "key": "serial",
          "nsim": 256,
          "repeat": 0,
          "time": 6.103073596954347,
          "time_type": "total"
         },
         {
          "actor_count": 1,
          "key": "serial",
          "nsim": 256,
          "repeat": 0,
          "time": 6.038757562637329,
          "time_type": "repeat"
         },
         {
          "actor_count": 15,
          "key": "parallel",
          "nsim": 256,
          "repeat": 1,
          "time": 0.014368295669555662,
          "time_type": "load"
         },
         {
          "actor_count": 15,
          "key": "parallel",
          "nsim": 256,
          "repeat": 1,
          "time": 4.360154151916504,
          "time_type": "simulate"
         },
         {
          "actor_count": 15,
          "key": "parallel",
          "nsim": 256,
          "repeat": 1,
          "time": 4.3745224475860605,
          "time_type": "total"
         },
         {
          "actor_count": 15,
          "key": "parallel",
          "nsim": 256,
          "repeat": 1,
          "time": 0.9665780067443848,
          "time_type": "repeat"
         },
         {
          "actor_count": 1,
          "key": "serial",
          "nsim": 256,
          "repeat": 1,
          "time": 0.07639694213867188,
          "time_type": "load"
         },
         {
          "actor_count": 1,
          "key": "serial",
          "nsim": 256,
          "repeat": 1,
          "time": 6.158496141433716,
          "time_type": "simulate"
         },
         {
          "actor_count": 1,
          "key": "serial",
          "nsim": 256,
          "repeat": 1,
          "time": 6.234893083572388,
          "time_type": "total"
         },
         {
          "actor_count": 1,
          "key": "serial",
          "nsim": 256,
          "repeat": 1,
          "time": 5.937655448913574,
          "time_type": "repeat"
         },
         {
          "actor_count": 15,
          "key": "parallel",
          "nsim": 256,
          "repeat": 2,
          "time": 0.010621309280395508,
          "time_type": "load"
         },
         {
          "actor_count": 15,
          "key": "parallel",
          "nsim": 256,
          "repeat": 2,
          "time": 1.4145982265472412,
          "time_type": "simulate"
         },
         {
          "actor_count": 15,
          "key": "parallel",
          "nsim": 256,
          "repeat": 2,
          "time": 1.4252195358276367,
          "time_type": "total"
         },
         {
          "actor_count": 15,
          "key": "parallel",
          "nsim": 256,
          "repeat": 2,
          "time": 0.8878765106201172,
          "time_type": "repeat"
         },
         {
          "actor_count": 1,
          "key": "serial",
          "nsim": 256,
          "repeat": 2,
          "time": 0.06619119644165039,
          "time_type": "load"
         },
         {
          "actor_count": 1,
          "key": "serial",
          "nsim": 256,
          "repeat": 2,
          "time": 6.046170234680176,
          "time_type": "simulate"
         },
         {
          "actor_count": 1,
          "key": "serial",
          "nsim": 256,
          "repeat": 2,
          "time": 6.112361431121826,
          "time_type": "total"
         },
         {
          "actor_count": 1,
          "key": "serial",
          "nsim": 256,
          "repeat": 2,
          "time": 5.936794519424439,
          "time_type": "repeat"
         },
         {
          "actor_count": 15,
          "key": "parallel",
          "nsim": 512,
          "repeat": 0,
          "time": 0.016846895217895508,
          "time_type": "load"
         },
         {
          "actor_count": 15,
          "key": "parallel",
          "nsim": 512,
          "repeat": 0,
          "time": 2.2061235904693604,
          "time_type": "simulate"
         },
         {
          "actor_count": 15,
          "key": "parallel",
          "nsim": 512,
          "repeat": 0,
          "time": 2.222970485687256,
          "time_type": "total"
         },
         {
          "actor_count": 15,
          "key": "parallel",
          "nsim": 512,
          "repeat": 0,
          "time": 1.6650893688201904,
          "time_type": "repeat"
         },
         {
          "actor_count": 1,
          "key": "serial",
          "nsim": 512,
          "repeat": 0,
          "time": 0.06580567359924316,
          "time_type": "load"
         },
         {
          "actor_count": 1,
          "key": "serial",
          "nsim": 512,
          "repeat": 0,
          "time": 11.988094568252563,
          "time_type": "simulate"
         },
         {
          "actor_count": 1,
          "key": "serial",
          "nsim": 512,
          "repeat": 0,
          "time": 12.053900241851807,
          "time_type": "total"
         },
         {
          "actor_count": 1,
          "key": "serial",
          "nsim": 512,
          "repeat": 0,
          "time": 11.72026777267456,
          "time_type": "repeat"
         },
         {
          "actor_count": 15,
          "key": "parallel",
          "nsim": 512,
          "repeat": 1,
          "time": 0.014323472976684569,
          "time_type": "load"
         },
         {
          "actor_count": 15,
          "key": "parallel",
          "nsim": 512,
          "repeat": 1,
          "time": 4.966697216033936,
          "time_type": "simulate"
         },
         {
          "actor_count": 15,
          "key": "parallel",
          "nsim": 512,
          "repeat": 1,
          "time": 4.98102068901062,
          "time_type": "total"
         },
         {
          "actor_count": 15,
          "key": "parallel",
          "nsim": 512,
          "repeat": 1,
          "time": 1.7757947444915771,
          "time_type": "repeat"
         },
         {
          "actor_count": 1,
          "key": "serial",
          "nsim": 512,
          "repeat": 1,
          "time": 0.0675814151763916,
          "time_type": "load"
         },
         {
          "actor_count": 1,
          "key": "serial",
          "nsim": 512,
          "repeat": 1,
          "time": 12.231733083724976,
          "time_type": "simulate"
         },
         {
          "actor_count": 1,
          "key": "serial",
          "nsim": 512,
          "repeat": 1,
          "time": 12.299314498901367,
          "time_type": "total"
         },
         {
          "actor_count": 1,
          "key": "serial",
          "nsim": 512,
          "repeat": 1,
          "time": 11.946279048919678,
          "time_type": "repeat"
         },
         {
          "actor_count": 15,
          "key": "parallel",
          "nsim": 512,
          "repeat": 2,
          "time": 0.02100396156311035,
          "time_type": "load"
         },
         {
          "actor_count": 15,
          "key": "parallel",
          "nsim": 512,
          "repeat": 2,
          "time": 2.3301212787628174,
          "time_type": "simulate"
         },
         {
          "actor_count": 15,
          "key": "parallel",
          "nsim": 512,
          "repeat": 2,
          "time": 2.351125240325928,
          "time_type": "total"
         },
         {
          "actor_count": 15,
          "key": "parallel",
          "nsim": 512,
          "repeat": 2,
          "time": 1.7094697952270508,
          "time_type": "repeat"
         },
         {
          "actor_count": 1,
          "key": "serial",
          "nsim": 512,
          "repeat": 2,
          "time": 0.06811785697937013,
          "time_type": "load"
         },
         {
          "actor_count": 1,
          "key": "serial",
          "nsim": 512,
          "repeat": 2,
          "time": 12.165183305740356,
          "time_type": "simulate"
         },
         {
          "actor_count": 1,
          "key": "serial",
          "nsim": 512,
          "repeat": 2,
          "time": 12.233301162719727,
          "time_type": "total"
         },
         {
          "actor_count": 1,
          "key": "serial",
          "nsim": 512,
          "repeat": 2,
          "time": 11.9107928276062,
          "time_type": "repeat"
         },
         {
          "actor_count": 15,
          "key": "parallel",
          "nsim": 1024,
          "repeat": 0,
          "time": 0.012537240982055664,
          "time_type": "load"
         },
         {
          "actor_count": 15,
          "key": "parallel",
          "nsim": 1024,
          "repeat": 0,
          "time": 3.8020970821380615,
          "time_type": "simulate"
         },
         {
          "actor_count": 15,
          "key": "parallel",
          "nsim": 1024,
          "repeat": 0,
          "time": 3.8146343231201167,
          "time_type": "total"
         },
         {
          "actor_count": 15,
          "key": "parallel",
          "nsim": 1024,
          "repeat": 0,
          "time": 3.61865496635437,
          "time_type": "repeat"
         },
         {
          "actor_count": 1,
          "key": "serial",
          "nsim": 1024,
          "repeat": 0,
          "time": 0.06763291358947754,
          "time_type": "load"
         },
         {
          "actor_count": 1,
          "key": "serial",
          "nsim": 1024,
          "repeat": 0,
          "time": 23.791168451309204,
          "time_type": "simulate"
         },
         {
          "actor_count": 1,
          "key": "serial",
          "nsim": 1024,
          "repeat": 0,
          "time": 23.85880136489868,
          "time_type": "total"
         },
         {
          "actor_count": 1,
          "key": "serial",
          "nsim": 1024,
          "repeat": 0,
          "time": 23.29818940162659,
          "time_type": "repeat"
         },
         {
          "actor_count": 15,
          "key": "parallel",
          "nsim": 1024,
          "repeat": 1,
          "time": 0.008372306823730469,
          "time_type": "load"
         },
         {
          "actor_count": 15,
          "key": "parallel",
          "nsim": 1024,
          "repeat": 1,
          "time": 6.844318151473999,
          "time_type": "simulate"
         },
         {
          "actor_count": 15,
          "key": "parallel",
          "nsim": 1024,
          "repeat": 1,
          "time": 6.8526904582977295,
          "time_type": "total"
         },
         {
          "actor_count": 15,
          "key": "parallel",
          "nsim": 1024,
          "repeat": 1,
          "time": 7.00499963760376,
          "time_type": "repeat"
         },
         {
          "actor_count": 1,
          "key": "serial",
          "nsim": 1024,
          "repeat": 1,
          "time": 0.08539128303527832,
          "time_type": "load"
         },
         {
          "actor_count": 1,
          "key": "serial",
          "nsim": 1024,
          "repeat": 1,
          "time": 24.295722246170047,
          "time_type": "simulate"
         },
         {
          "actor_count": 1,
          "key": "serial",
          "nsim": 1024,
          "repeat": 1,
          "time": 24.381113529205322,
          "time_type": "total"
         },
         {
          "actor_count": 1,
          "key": "serial",
          "nsim": 1024,
          "repeat": 1,
          "time": 25.20128870010376,
          "time_type": "repeat"
         },
         {
          "actor_count": 15,
          "key": "parallel",
          "nsim": 1024,
          "repeat": 2,
          "time": 0.01220560073852539,
          "time_type": "load"
         },
         {
          "actor_count": 15,
          "key": "parallel",
          "nsim": 1024,
          "repeat": 2,
          "time": 3.8458237648010254,
          "time_type": "simulate"
         },
         {
          "actor_count": 15,
          "key": "parallel",
          "nsim": 1024,
          "repeat": 2,
          "time": 3.8580293655395512,
          "time_type": "total"
         },
         {
          "actor_count": 15,
          "key": "parallel",
          "nsim": 1024,
          "repeat": 2,
          "time": 3.3586025238037114,
          "time_type": "repeat"
         },
         {
          "actor_count": 1,
          "key": "serial",
          "nsim": 1024,
          "repeat": 2,
          "time": 0.06865525245666504,
          "time_type": "load"
         },
         {
          "actor_count": 1,
          "key": "serial",
          "nsim": 1024,
          "repeat": 2,
          "time": 23.51841688156128,
          "time_type": "simulate"
         },
         {
          "actor_count": 1,
          "key": "serial",
          "nsim": 1024,
          "repeat": 2,
          "time": 23.587072134017944,
          "time_type": "total"
         },
         {
          "actor_count": 1,
          "key": "serial",
          "nsim": 1024,
          "repeat": 2,
          "time": 23.44825291633606,
          "time_type": "repeat"
         }
        ]
       },
       "encoding": {
        "color": {
         "field": "key",
         "type": "nominal"
        },
        "shape": {
         "field": "time_type",
         "type": "nominal"
        },
        "tooltip": {
         "field": "time_type",
         "type": "nominal"
        },
        "x": {
         "field": "nsim",
         "scale": {
          "type": "log"
         },
         "type": "quantitative"
        },
        "y": {
         "field": "time",
         "scale": {
          "type": "log"
         },
         "type": "quantitative"
        }
       },
       "mark": "point",
       "selection": {
        "selector031": {
         "bind": "scales",
         "encodings": [
          "x",
          "y"
         ],
         "type": "interval"
        }
       }
      },
      "image/png": "[encoded data removed]",
      "text/plain": [
       "<VegaLite 3 object>\n",
       "\n",
       "If you see this message, it means the renderer has not been properly enabled\n",
       "for the frontend that you are using. For more information, see\n",
       "https://altair-viz.github.io/user_guide/troubleshooting.html\n"
      ]
     },
     "execution_count": 49,
     "metadata": {},
     "output_type": "execute_result"
    }
   ],
   "source": [
    "chart = alt.Chart(benchmarks).mark_point().encode(\n",
    "    alt.X('nsim:Q', scale=alt.Scale(type=\"log\")),\n",
    "    alt.Y('time', scale=alt.Scale(type=\"log\")),\n",
    "    color='key',\n",
    "    tooltip=\"time_type\",\n",
    "    shape=\"time_type\"\n",
    "    \n",
    ").interactive()\n",
    "\n",
    "chart"
   ]
  },
  {
   "cell_type": "code",
   "execution_count": null,
   "metadata": {},
   "outputs": [],
   "source": []
  }
 ],
 "metadata": {
  "kernelspec": {
   "display_name": "sbmlsim",
   "language": "python",
   "name": "sbmlsim"
  },
  "language_info": {
   "codemirror_mode": {
    "name": "ipython",
    "version": 3
   },
   "file_extension": ".py",
   "mimetype": "text/x-python",
   "name": "python",
   "nbconvert_exporter": "python",
   "pygments_lexer": "ipython3",
   "version": "3.6.9"
  },
  "pycharm": {
   "stem_cell": {
    "cell_type": "raw",
    "metadata": {
     "collapsed": false
    },
    "source": []
   }
  }
 },
 "nbformat": 4,
 "nbformat_minor": 4
}
