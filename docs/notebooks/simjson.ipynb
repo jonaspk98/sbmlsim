{
 "cells": [
  {
   "cell_type": "markdown",
   "metadata": {},
   "source": [
    "# JSON simulation language\n",
    "For simple exchange of simulation descriptions a JSON format for the simulation was\n",
    "developed. The files for the code examples are available from\n",
    "https://github.com/matthiaskoenig/sbmlsim/tree/develop/docs/notebooks"
   ]
  },
  {
   "cell_type": "code",
   "execution_count": 1,
   "metadata": {},
   "outputs": [
    {
     "name": "stdout",
     "output_type": "stream",
     "text": [
      "0.1.0\n"
     ]
    }
   ],
   "source": [
    "%load_ext autoreload\n",
    "%autoreload 2\n",
    "import sbmlsim\n",
    "print(sbmlsim.__version__)"
   ]
  },
  {
   "cell_type": "markdown",
   "metadata": {},
   "source": [
    "## Timecourse simulation\n",
    "In the first example we create a simple timecourse simulation for the repressilator model.\n",
    "The simulation starts at `start` ends at `end` and has `steps` intervals (or `steps+1` points)."
   ]
  },
  {
   "cell_type": "code",
   "execution_count": 2,
   "metadata": {},
   "outputs": [],
   "source": [
    "from sbmlsim.timecourse import Timecourse, TimecourseSim\n",
    "\n",
    "tcsim = TimecourseSim(Timecourse(start=0, end=60, steps=60))"
   ]
  },
  {
   "cell_type": "markdown",
   "metadata": {},
   "source": [
    "We can convert the timecourse simulation into JSON via"
   ]
  },
  {
   "cell_type": "code",
   "execution_count": 3,
   "metadata": {},
   "outputs": [
    {
     "name": "stdout",
     "output_type": "stream",
     "text": [
      "{\n",
      "  \"timecourses\": [\n",
      "    {\n",
      "      \"normalized\": false,\n",
      "      \"start\": 0,\n",
      "      \"end\": 60,\n",
      "      \"steps\": 60,\n",
      "      \"changes\": {},\n",
      "      \"model_changes\": {}\n",
      "    }\n",
      "  ],\n",
      "  \"selections\": null,\n",
      "  \"reset\": true,\n",
      "  \"time_offset\": 0.0\n",
      "}\n"
     ]
    }
   ],
   "source": [
    "json_str = tcsim.to_json()\n",
    "print(json_str)"
   ]
  },
  {
   "cell_type": "markdown",
   "metadata": {},
   "source": [
    "By providing a file path we can store the definition as json file"
   ]
  },
  {
   "cell_type": "code",
   "execution_count": 4,
   "metadata": {},
   "outputs": [],
   "source": [
    "tcsim.to_json('./json_examples/example_1.json')"
   ]
  },
  {
   "cell_type": "markdown",
   "metadata": {},
   "source": [
    "We can now run the simulation with a given model, here with the `repressilator` model and have a look at the numerical results."
   ]
  },
  {
   "cell_type": "code",
   "execution_count": 5,
   "metadata": {},
   "outputs": [
    {
     "name": "stderr",
     "output_type": "stream",
     "text": [
      "WARNING:pint.util:Redefining 'yr' (<class 'pint.definitions.UnitDefinition'>)\n",
      "WARNING:sbmlsim.units:substance or volume unit missing, impossible to determine concentration unit for [PX])\n",
      "WARNING:sbmlsim.units:substance or volume unit missing, impossible to determine concentration unit for [PY])\n",
      "WARNING:sbmlsim.units:substance or volume unit missing, impossible to determine concentration unit for [PZ])\n",
      "WARNING:sbmlsim.units:substance or volume unit missing, impossible to determine concentration unit for [X])\n",
      "WARNING:sbmlsim.units:substance or volume unit missing, impossible to determine concentration unit for [Y])\n",
      "WARNING:sbmlsim.units:substance or volume unit missing, impossible to determine concentration unit for [Z])\n",
      "WARNING:sbmlsim.units:DerivedUnit not found in UnitDefinitions: 1/(item)\n",
      "WARNING:sbmlsim.units:DerivedUnit not found in UnitDefinitions: 1/(item)\n",
      "WARNING:sbmlsim.units:DerivedUnit not found in UnitDefinitions: 1/(item)\n"
     ]
    },
    {
     "name": "stdout",
     "output_type": "stream",
     "text": [
      "<class 'sbmlsim.result.Result'>\n",
      "DataFrames: 1\n",
      "Shape: (61, 42, 1)\n",
      "Size (bytes): 20496\n"
     ]
    }
   ],
   "source": [
    "from pathlib import Path\n",
    "from sbmlsim.simulation_serial import SimulatorSerial as Simulator\n",
    "\n",
    "simulator = Simulator(\"./models/repressilator.xml\")\n",
    "result = simulator.timecourses(tcsim)\n",
    "print(result)"
   ]
  },
  {
   "cell_type": "code",
   "execution_count": 6,
   "metadata": {},
   "outputs": [
    {
     "name": "stderr",
     "output_type": "stream",
     "text": [
      "WARNING:root:For a single simulation the mean returns the single simulation\n"
     ]
    },
    {
     "data": {
      "text/html": [
       "<div>\n",
       "<style scoped>\n",
       "    .dataframe tbody tr th:only-of-type {\n",
       "        vertical-align: middle;\n",
       "    }\n",
       "\n",
       "    .dataframe tbody tr th {\n",
       "        vertical-align: top;\n",
       "    }\n",
       "\n",
       "    .dataframe thead th {\n",
       "        text-align: right;\n",
       "    }\n",
       "</style>\n",
       "<table border=\"1\" class=\"dataframe\">\n",
       "  <thead>\n",
       "    <tr style=\"text-align: right;\">\n",
       "      <th></th>\n",
       "      <th>time</th>\n",
       "      <th>PX</th>\n",
       "      <th>PY</th>\n",
       "      <th>PZ</th>\n",
       "      <th>X</th>\n",
       "      <th>Y</th>\n",
       "      <th>Z</th>\n",
       "      <th>eff</th>\n",
       "      <th>n</th>\n",
       "      <th>KM</th>\n",
       "      <th>...</th>\n",
       "      <th>Reaction10</th>\n",
       "      <th>Reaction11</th>\n",
       "      <th>Reaction12</th>\n",
       "      <th>cell</th>\n",
       "      <th>[PX]</th>\n",
       "      <th>[PY]</th>\n",
       "      <th>[PZ]</th>\n",
       "      <th>[X]</th>\n",
       "      <th>[Y]</th>\n",
       "      <th>[Z]</th>\n",
       "    </tr>\n",
       "  </thead>\n",
       "  <tbody>\n",
       "    <tr>\n",
       "      <th>0</th>\n",
       "      <td>0.0</td>\n",
       "      <td>0.000000</td>\n",
       "      <td>0.000000</td>\n",
       "      <td>0.000000</td>\n",
       "      <td>0.000000</td>\n",
       "      <td>20.000000</td>\n",
       "      <td>0.000000</td>\n",
       "      <td>20.0</td>\n",
       "      <td>2.0</td>\n",
       "      <td>40.0</td>\n",
       "      <td>...</td>\n",
       "      <td>30.000000</td>\n",
       "      <td>30.000000</td>\n",
       "      <td>30.000000</td>\n",
       "      <td>1.0</td>\n",
       "      <td>0.000000</td>\n",
       "      <td>0.000000</td>\n",
       "      <td>0.000000</td>\n",
       "      <td>0.000000</td>\n",
       "      <td>20.000000</td>\n",
       "      <td>0.000000</td>\n",
       "    </tr>\n",
       "    <tr>\n",
       "      <th>1</th>\n",
       "      <td>1.0</td>\n",
       "      <td>81.440426</td>\n",
       "      <td>188.382020</td>\n",
       "      <td>42.641364</td>\n",
       "      <td>19.903426</td>\n",
       "      <td>30.615526</td>\n",
       "      <td>7.491014</td>\n",
       "      <td>20.0</td>\n",
       "      <td>2.0</td>\n",
       "      <td>40.0</td>\n",
       "      <td>...</td>\n",
       "      <td>14.058083</td>\n",
       "      <td>5.854689</td>\n",
       "      <td>1.322932</td>\n",
       "      <td>1.0</td>\n",
       "      <td>81.440426</td>\n",
       "      <td>188.382020</td>\n",
       "      <td>42.641364</td>\n",
       "      <td>19.903426</td>\n",
       "      <td>30.615526</td>\n",
       "      <td>7.491014</td>\n",
       "    </tr>\n",
       "    <tr>\n",
       "      <th>2</th>\n",
       "      <td>2.0</td>\n",
       "      <td>218.538704</td>\n",
       "      <td>358.026782</td>\n",
       "      <td>84.588884</td>\n",
       "      <td>21.233519</td>\n",
       "      <td>23.608864</td>\n",
       "      <td>5.866252</td>\n",
       "      <td>20.0</td>\n",
       "      <td>2.0</td>\n",
       "      <td>40.0</td>\n",
       "      <td>...</td>\n",
       "      <td>5.506924</td>\n",
       "      <td>1.001491</td>\n",
       "      <td>0.399478</td>\n",
       "      <td>1.0</td>\n",
       "      <td>218.538704</td>\n",
       "      <td>358.026782</td>\n",
       "      <td>84.588884</td>\n",
       "      <td>21.233519</td>\n",
       "      <td>23.608864</td>\n",
       "      <td>5.866252</td>\n",
       "    </tr>\n",
       "    <tr>\n",
       "      <th>3</th>\n",
       "      <td>3.0</td>\n",
       "      <td>337.622362</td>\n",
       "      <td>469.625864</td>\n",
       "      <td>113.054468</td>\n",
       "      <td>18.544097</td>\n",
       "      <td>17.234851</td>\n",
       "      <td>4.403620</td>\n",
       "      <td>20.0</td>\n",
       "      <td>2.0</td>\n",
       "      <td>40.0</td>\n",
       "      <td>...</td>\n",
       "      <td>3.364327</td>\n",
       "      <td>0.444850</td>\n",
       "      <td>0.245856</td>\n",
       "      <td>1.0</td>\n",
       "      <td>337.622362</td>\n",
       "      <td>469.625864</td>\n",
       "      <td>113.054468</td>\n",
       "      <td>18.544097</td>\n",
       "      <td>17.234851</td>\n",
       "      <td>4.403620</td>\n",
       "    </tr>\n",
       "    <tr>\n",
       "      <th>4</th>\n",
       "      <td>4.0</td>\n",
       "      <td>428.938247</td>\n",
       "      <td>536.662776</td>\n",
       "      <td>131.034639</td>\n",
       "      <td>15.559775</td>\n",
       "      <td>12.482022</td>\n",
       "      <td>3.295798</td>\n",
       "      <td>20.0</td>\n",
       "      <td>2.0</td>\n",
       "      <td>40.0</td>\n",
       "      <td>...</td>\n",
       "      <td>2.584705</td>\n",
       "      <td>0.288379</td>\n",
       "      <td>0.195576</td>\n",
       "      <td>1.0</td>\n",
       "      <td>428.938247</td>\n",
       "      <td>536.662776</td>\n",
       "      <td>131.034639</td>\n",
       "      <td>15.559775</td>\n",
       "      <td>12.482022</td>\n",
       "      <td>3.295798</td>\n",
       "    </tr>\n",
       "    <tr>\n",
       "      <th>...</th>\n",
       "      <td>...</td>\n",
       "      <td>...</td>\n",
       "      <td>...</td>\n",
       "      <td>...</td>\n",
       "      <td>...</td>\n",
       "      <td>...</td>\n",
       "      <td>...</td>\n",
       "      <td>...</td>\n",
       "      <td>...</td>\n",
       "      <td>...</td>\n",
       "      <td>...</td>\n",
       "      <td>...</td>\n",
       "      <td>...</td>\n",
       "      <td>...</td>\n",
       "      <td>...</td>\n",
       "      <td>...</td>\n",
       "      <td>...</td>\n",
       "      <td>...</td>\n",
       "      <td>...</td>\n",
       "      <td>...</td>\n",
       "      <td>...</td>\n",
       "    </tr>\n",
       "    <tr>\n",
       "      <th>56</th>\n",
       "      <td>56.0</td>\n",
       "      <td>218.684319</td>\n",
       "      <td>113.893055</td>\n",
       "      <td>1011.838390</td>\n",
       "      <td>0.257358</td>\n",
       "      <td>2.171448</td>\n",
       "      <td>11.909906</td>\n",
       "      <td>20.0</td>\n",
       "      <td>2.0</td>\n",
       "      <td>40.0</td>\n",
       "      <td>...</td>\n",
       "      <td>0.076763</td>\n",
       "      <td>1.000240</td>\n",
       "      <td>3.320778</td>\n",
       "      <td>1.0</td>\n",
       "      <td>218.684319</td>\n",
       "      <td>113.893055</td>\n",
       "      <td>1011.838390</td>\n",
       "      <td>0.257358</td>\n",
       "      <td>2.171448</td>\n",
       "      <td>11.909906</td>\n",
       "    </tr>\n",
       "    <tr>\n",
       "      <th>57</th>\n",
       "      <td>57.0</td>\n",
       "      <td>205.724492</td>\n",
       "      <td>121.680149</td>\n",
       "      <td>1021.009829</td>\n",
       "      <td>0.246437</td>\n",
       "      <td>2.434108</td>\n",
       "      <td>11.063379</td>\n",
       "      <td>20.0</td>\n",
       "      <td>2.0</td>\n",
       "      <td>40.0</td>\n",
       "      <td>...</td>\n",
       "      <td>0.075928</td>\n",
       "      <td>1.121739</td>\n",
       "      <td>2.952823</td>\n",
       "      <td>1.0</td>\n",
       "      <td>205.724492</td>\n",
       "      <td>121.680149</td>\n",
       "      <td>1021.009829</td>\n",
       "      <td>0.246437</td>\n",
       "      <td>2.434108</td>\n",
       "      <td>11.063379</td>\n",
       "    </tr>\n",
       "    <tr>\n",
       "      <th>58</th>\n",
       "      <td>58.0</td>\n",
       "      <td>193.568968</td>\n",
       "      <td>130.811333</td>\n",
       "      <td>1023.677923</td>\n",
       "      <td>0.238278</td>\n",
       "      <td>2.728748</td>\n",
       "      <td>10.156582</td>\n",
       "      <td>20.0</td>\n",
       "      <td>2.0</td>\n",
       "      <td>40.0</td>\n",
       "      <td>...</td>\n",
       "      <td>0.075690</td>\n",
       "      <td>1.257369</td>\n",
       "      <td>2.592688</td>\n",
       "      <td>1.0</td>\n",
       "      <td>193.568968</td>\n",
       "      <td>130.811333</td>\n",
       "      <td>1023.677923</td>\n",
       "      <td>0.238278</td>\n",
       "      <td>2.728748</td>\n",
       "      <td>10.156582</td>\n",
       "    </tr>\n",
       "    <tr>\n",
       "      <th>59</th>\n",
       "      <td>59.0</td>\n",
       "      <td>182.181259</td>\n",
       "      <td>141.421225</td>\n",
       "      <td>1019.972101</td>\n",
       "      <td>0.232563</td>\n",
       "      <td>3.058478</td>\n",
       "      <td>9.218230</td>\n",
       "      <td>20.0</td>\n",
       "      <td>2.0</td>\n",
       "      <td>40.0</td>\n",
       "      <td>...</td>\n",
       "      <td>0.076022</td>\n",
       "      <td>1.408327</td>\n",
       "      <td>2.250004</td>\n",
       "      <td>1.0</td>\n",
       "      <td>182.181259</td>\n",
       "      <td>141.421225</td>\n",
       "      <td>1019.972101</td>\n",
       "      <td>0.232563</td>\n",
       "      <td>3.058478</td>\n",
       "      <td>9.218230</td>\n",
       "    </tr>\n",
       "    <tr>\n",
       "      <th>60</th>\n",
       "      <td>60.0</td>\n",
       "      <td>171.525463</td>\n",
       "      <td>153.656610</td>\n",
       "      <td>1010.202008</td>\n",
       "      <td>0.229053</td>\n",
       "      <td>3.426504</td>\n",
       "      <td>8.275754</td>\n",
       "      <td>20.0</td>\n",
       "      <td>2.0</td>\n",
       "      <td>40.0</td>\n",
       "      <td>...</td>\n",
       "      <td>0.076915</td>\n",
       "      <td>1.575792</td>\n",
       "      <td>1.932076</td>\n",
       "      <td>1.0</td>\n",
       "      <td>171.525463</td>\n",
       "      <td>153.656610</td>\n",
       "      <td>1010.202008</td>\n",
       "      <td>0.229053</td>\n",
       "      <td>3.426504</td>\n",
       "      <td>8.275754</td>\n",
       "    </tr>\n",
       "  </tbody>\n",
       "</table>\n",
       "<p>61 rows × 42 columns</p>\n",
       "</div>"
      ],
      "text/plain": [
       "    time          PX          PY           PZ          X          Y  \\\n",
       "0    0.0    0.000000    0.000000     0.000000   0.000000  20.000000   \n",
       "1    1.0   81.440426  188.382020    42.641364  19.903426  30.615526   \n",
       "2    2.0  218.538704  358.026782    84.588884  21.233519  23.608864   \n",
       "3    3.0  337.622362  469.625864   113.054468  18.544097  17.234851   \n",
       "4    4.0  428.938247  536.662776   131.034639  15.559775  12.482022   \n",
       "..   ...         ...         ...          ...        ...        ...   \n",
       "56  56.0  218.684319  113.893055  1011.838390   0.257358   2.171448   \n",
       "57  57.0  205.724492  121.680149  1021.009829   0.246437   2.434108   \n",
       "58  58.0  193.568968  130.811333  1023.677923   0.238278   2.728748   \n",
       "59  59.0  182.181259  141.421225  1019.972101   0.232563   3.058478   \n",
       "60  60.0  171.525463  153.656610  1010.202008   0.229053   3.426504   \n",
       "\n",
       "            Z   eff    n    KM  ...  Reaction10  Reaction11  Reaction12  cell  \\\n",
       "0    0.000000  20.0  2.0  40.0  ...   30.000000   30.000000   30.000000   1.0   \n",
       "1    7.491014  20.0  2.0  40.0  ...   14.058083    5.854689    1.322932   1.0   \n",
       "2    5.866252  20.0  2.0  40.0  ...    5.506924    1.001491    0.399478   1.0   \n",
       "3    4.403620  20.0  2.0  40.0  ...    3.364327    0.444850    0.245856   1.0   \n",
       "4    3.295798  20.0  2.0  40.0  ...    2.584705    0.288379    0.195576   1.0   \n",
       "..        ...   ...  ...   ...  ...         ...         ...         ...   ...   \n",
       "56  11.909906  20.0  2.0  40.0  ...    0.076763    1.000240    3.320778   1.0   \n",
       "57  11.063379  20.0  2.0  40.0  ...    0.075928    1.121739    2.952823   1.0   \n",
       "58  10.156582  20.0  2.0  40.0  ...    0.075690    1.257369    2.592688   1.0   \n",
       "59   9.218230  20.0  2.0  40.0  ...    0.076022    1.408327    2.250004   1.0   \n",
       "60   8.275754  20.0  2.0  40.0  ...    0.076915    1.575792    1.932076   1.0   \n",
       "\n",
       "          [PX]        [PY]         [PZ]        [X]        [Y]        [Z]  \n",
       "0     0.000000    0.000000     0.000000   0.000000  20.000000   0.000000  \n",
       "1    81.440426  188.382020    42.641364  19.903426  30.615526   7.491014  \n",
       "2   218.538704  358.026782    84.588884  21.233519  23.608864   5.866252  \n",
       "3   337.622362  469.625864   113.054468  18.544097  17.234851   4.403620  \n",
       "4   428.938247  536.662776   131.034639  15.559775  12.482022   3.295798  \n",
       "..         ...         ...          ...        ...        ...        ...  \n",
       "56  218.684319  113.893055  1011.838390   0.257358   2.171448  11.909906  \n",
       "57  205.724492  121.680149  1021.009829   0.246437   2.434108  11.063379  \n",
       "58  193.568968  130.811333  1023.677923   0.238278   2.728748  10.156582  \n",
       "59  182.181259  141.421225  1019.972101   0.232563   3.058478   9.218230  \n",
       "60  171.525463  153.656610  1010.202008   0.229053   3.426504   8.275754  \n",
       "\n",
       "[61 rows x 42 columns]"
      ]
     },
     "execution_count": 6,
     "metadata": {},
     "output_type": "execute_result"
    }
   ],
   "source": [
    "# get timecourse data\n",
    "result.mean.to_csv('./json_examples/example_1.tsv', index=False, sep='\\t')\n",
    "result.mean"
   ]
  },
  {
   "cell_type": "markdown",
   "metadata": {},
   "source": [
    "Now we create a small helper for plotting the results which we will reuse in the following examples."
   ]
  },
  {
   "cell_type": "code",
   "execution_count": 7,
   "metadata": {},
   "outputs": [
    {
     "data": {
      "image/png": "[encoded data removed]",
      "text/plain": [
       "<Figure size 360x360 with 1 Axes>"
      ]
     },
     "metadata": {},
     "output_type": "display_data"
    }
   ],
   "source": [
    "%matplotlib inline\n",
    "from sbmlsim import plotting_matplotlib\n",
    "from matplotlib import pyplot as plt\n",
    "\n",
    "def plot_repressilator_result(result):\n",
    "    df = result.mean\n",
    "    fig, (ax) = plt.subplots(nrows=1, ncols=1, figsize=(5, 5))\n",
    "\n",
    "    ax.plot(df.time, df.X, 'o-', label=\"X\")\n",
    "    ax.plot(df.time, df.Y, 'o-', label=\"Y\")\n",
    "    ax.plot(df.time, df.Z, 'o-', label=\"Z\")\n",
    "\n",
    "    ax.set_xlabel(\"time\")\n",
    "    ax.set_ylabel(\"amount\")\n",
    "    ax.legend()\n",
    "    plt.show()\n",
    "    \n",
    "plot_repressilator_result(result)"
   ]
  },
  {
   "cell_type": "markdown",
   "metadata": {},
   "source": [
    "## Model changes\n",
    "A simulation without changing anything in the model is a bit boring, so in the following we add changes to the model at the beginning of a simulation.\n",
    "Such changes can either be changes in the initial amount of a species, initial concentration of a species or parameter values. \n",
    "\n",
    "Changes are defined via the `changes` field in a timecourse. The referencing of model objects (species or parameters) works hereby via the `SId`, i.e. the SBML identifiers used in the SBML model.\n",
    "\n",
    "### Parameter changes\n",
    "To change parameter values add the assignment of the change to the `changes` dictionary.\n",
    "In the example the parameter with id `n` is changed to `5` in the simulation by adding the changes `{'n': 5}` to the `Timecourse` object."
   ]
  },
  {
   "cell_type": "code",
   "execution_count": 8,
   "metadata": {},
   "outputs": [
    {
     "name": "stderr",
     "output_type": "stream",
     "text": [
      "WARNING:pint.util:Redefining 'yr' (<class 'pint.definitions.UnitDefinition'>)\n",
      "WARNING:sbmlsim.units:substance or volume unit missing, impossible to determine concentration unit for [PX])\n",
      "WARNING:sbmlsim.units:substance or volume unit missing, impossible to determine concentration unit for [PY])\n",
      "WARNING:sbmlsim.units:substance or volume unit missing, impossible to determine concentration unit for [PZ])\n",
      "WARNING:sbmlsim.units:substance or volume unit missing, impossible to determine concentration unit for [X])\n",
      "WARNING:sbmlsim.units:substance or volume unit missing, impossible to determine concentration unit for [Y])\n",
      "WARNING:sbmlsim.units:substance or volume unit missing, impossible to determine concentration unit for [Z])\n",
      "WARNING:sbmlsim.units:DerivedUnit not found in UnitDefinitions: 1/(item)\n",
      "WARNING:sbmlsim.units:DerivedUnit not found in UnitDefinitions: 1/(item)\n",
      "WARNING:sbmlsim.units:DerivedUnit not found in UnitDefinitions: 1/(item)\n",
      "WARNING:sbmlsim.timecourse:No units provided, assuming model units: n = 5 dimensionless\n",
      "WARNING:root:For a single simulation the mean returns the single simulation\n"
     ]
    },
    {
     "data": {
      "image/png": "[encoded data removed]",
      "text/plain": [
       "<Figure size 360x360 with 1 Axes>"
      ]
     },
     "metadata": {},
     "output_type": "display_data"
    },
    {
     "name": "stdout",
     "output_type": "stream",
     "text": [
      "{\n",
      "  \"timecourses\": [\n",
      "    {\n",
      "      \"normalized\": true,\n",
      "      \"start\": 0,\n",
      "      \"end\": 60,\n",
      "      \"steps\": 60,\n",
      "      \"changes\": {\n",
      "        \"n\": {\n",
      "          \"_magnitude\": 5,\n",
      "          \"_units\": \"dimensionless\",\n",
      "          \"_Quantity__used\": false,\n",
      "          \"_Quantity__handling\": null\n",
      "        }\n",
      "      },\n",
      "      \"model_changes\": {}\n",
      "    }\n",
      "  ],\n",
      "  \"selections\": null,\n",
      "  \"reset\": true,\n",
      "  \"time_offset\": 0.0\n",
      "}\n"
     ]
    }
   ],
   "source": [
    "ex_id = 2\n",
    "simulator = Simulator(\"./models/repressilator.xml\")\n",
    "tcsim = TimecourseSim(\n",
    "    Timecourse(start=0, end=60, steps=60, changes={'n': 5})\n",
    ")\n",
    "result = simulator.timecourses(tcsim)\n",
    "plot_repressilator_result(result)\n",
    "\n",
    "tcsim.to_json(f'./json_examples/example_{ex_id}.json')\n",
    "result.mean.to_csv(f'./json_examples/example_{ex_id}.tsv', index=False, sep='\\t')\n",
    "print(tcsim.to_json())"
   ]
  },
  {
   "cell_type": "markdown",
   "metadata": {},
   "source": [
    "### Initial amount changes\n",
    "To change the initial amount of a species `X` to `100` we add the corresponding changes `{'X': 100}` to the `Timecourse`."
   ]
  },
  {
   "cell_type": "code",
   "execution_count": 9,
   "metadata": {},
   "outputs": [
    {
     "name": "stderr",
     "output_type": "stream",
     "text": [
      "WARNING:pint.util:Redefining 'yr' (<class 'pint.definitions.UnitDefinition'>)\n",
      "WARNING:sbmlsim.units:substance or volume unit missing, impossible to determine concentration unit for [PX])\n",
      "WARNING:sbmlsim.units:substance or volume unit missing, impossible to determine concentration unit for [PY])\n",
      "WARNING:sbmlsim.units:substance or volume unit missing, impossible to determine concentration unit for [PZ])\n",
      "WARNING:sbmlsim.units:substance or volume unit missing, impossible to determine concentration unit for [X])\n",
      "WARNING:sbmlsim.units:substance or volume unit missing, impossible to determine concentration unit for [Y])\n",
      "WARNING:sbmlsim.units:substance or volume unit missing, impossible to determine concentration unit for [Z])\n",
      "WARNING:sbmlsim.units:DerivedUnit not found in UnitDefinitions: 1/(item)\n",
      "WARNING:sbmlsim.units:DerivedUnit not found in UnitDefinitions: 1/(item)\n",
      "WARNING:sbmlsim.units:DerivedUnit not found in UnitDefinitions: 1/(item)\n",
      "WARNING:sbmlsim.timecourse:No units provided, assuming model units: X = 100 dimensionless\n",
      "WARNING:root:For a single simulation the mean returns the single simulation\n"
     ]
    },
    {
     "data": {
      "image/png": "[encoded data removed]",
      "text/plain": [
       "<Figure size 360x360 with 1 Axes>"
      ]
     },
     "metadata": {},
     "output_type": "display_data"
    },
    {
     "name": "stdout",
     "output_type": "stream",
     "text": [
      "{\n",
      "  \"timecourses\": [\n",
      "    {\n",
      "      \"normalized\": true,\n",
      "      \"start\": 0,\n",
      "      \"end\": 60,\n",
      "      \"steps\": 60,\n",
      "      \"changes\": {\n",
      "        \"X\": {\n",
      "          \"_magnitude\": 100,\n",
      "          \"_units\": \"dimensionless\",\n",
      "          \"_Quantity__used\": false,\n",
      "          \"_Quantity__handling\": null\n",
      "        }\n",
      "      },\n",
      "      \"model_changes\": {}\n",
      "    }\n",
      "  ],\n",
      "  \"selections\": null,\n",
      "  \"reset\": true,\n",
      "  \"time_offset\": 0.0\n",
      "}\n"
     ]
    }
   ],
   "source": [
    "ex_id = 3\n",
    "simulator = Simulator(\"./models/repressilator.xml\")\n",
    "tcsim = TimecourseSim(\n",
    "    Timecourse(start=0, end=60, steps=60, changes={'X': 100})\n",
    ")\n",
    "result = simulator.timecourses(tcsim)\n",
    "plot_repressilator_result(result)\n",
    "\n",
    "tcsim.to_json(f'./json_examples/example_{ex_id}.json')\n",
    "result.mean.to_csv(f'./json_examples/example_{ex_id}.tsv', index=False, sep='\\t')\n",
    "print(tcsim.to_json())"
   ]
  },
  {
   "cell_type": "markdown",
   "metadata": {},
   "source": [
    "### Initial concentration changes\n",
    "To change the initial concentration of a species `Y` to `50` in the simulation we add the changes `{'[Y]': 50}` to the `Timecourse`. The concentrations of species are referenced via the bracket syntax, i.e. `[Y]` is the concentration of `Y`, whereas `Y` is the amount of `Y`.\n",
    "\n",
    "**Note:** For the repressilator model the volume in which the species are located is `1.0`, so that changes in amount correspond to changes in concentration."
   ]
  },
  {
   "cell_type": "code",
   "execution_count": 10,
   "metadata": {},
   "outputs": [
    {
     "name": "stderr",
     "output_type": "stream",
     "text": [
      "WARNING:pint.util:Redefining 'yr' (<class 'pint.definitions.UnitDefinition'>)\n",
      "WARNING:sbmlsim.units:substance or volume unit missing, impossible to determine concentration unit for [PX])\n",
      "WARNING:sbmlsim.units:substance or volume unit missing, impossible to determine concentration unit for [PY])\n",
      "WARNING:sbmlsim.units:substance or volume unit missing, impossible to determine concentration unit for [PZ])\n",
      "WARNING:sbmlsim.units:substance or volume unit missing, impossible to determine concentration unit for [X])\n",
      "WARNING:sbmlsim.units:substance or volume unit missing, impossible to determine concentration unit for [Y])\n",
      "WARNING:sbmlsim.units:substance or volume unit missing, impossible to determine concentration unit for [Z])\n",
      "WARNING:sbmlsim.units:DerivedUnit not found in UnitDefinitions: 1/(item)\n",
      "WARNING:sbmlsim.units:DerivedUnit not found in UnitDefinitions: 1/(item)\n",
      "WARNING:sbmlsim.units:DerivedUnit not found in UnitDefinitions: 1/(item)\n",
      "WARNING:sbmlsim.timecourse:No units provided, assuming model units: [Y] = 50 dimensionless\n",
      "WARNING:root:For a single simulation the mean returns the single simulation\n"
     ]
    },
    {
     "data": {
      "image/png": "[encoded data removed]",
      "text/plain": [
       "<Figure size 360x360 with 1 Axes>"
      ]
     },
     "metadata": {},
     "output_type": "display_data"
    },
    {
     "name": "stdout",
     "output_type": "stream",
     "text": [
      "{\n",
      "  \"timecourses\": [\n",
      "    {\n",
      "      \"normalized\": true,\n",
      "      \"start\": 0,\n",
      "      \"end\": 60,\n",
      "      \"steps\": 60,\n",
      "      \"changes\": {\n",
      "        \"[Y]\": {\n",
      "          \"_magnitude\": 50,\n",
      "          \"_units\": \"dimensionless\",\n",
      "          \"_Quantity__used\": false,\n",
      "          \"_Quantity__handling\": null\n",
      "        }\n",
      "      },\n",
      "      \"model_changes\": {}\n",
      "    }\n",
      "  ],\n",
      "  \"selections\": null,\n",
      "  \"reset\": true,\n",
      "  \"time_offset\": 0.0\n",
      "}\n"
     ]
    }
   ],
   "source": [
    "ex_id = 4\n",
    "simulator = Simulator(\"./models/repressilator.xml\")\n",
    "tcsim = TimecourseSim(\n",
    "    Timecourse(start=0, end=60, steps=60, changes={'[Y]': 50})\n",
    ")\n",
    "result = simulator.timecourses(tcsim)\n",
    "plot_repressilator_result(result)\n",
    "\n",
    "tcsim.to_json(f'./json_examples/example_{ex_id}.json')\n",
    "result.mean.to_csv(f'./json_examples/example_{ex_id}.tsv', index=False, sep='\\t')\n",
    "print(tcsim.to_json())"
   ]
  },
  {
   "cell_type": "markdown",
   "metadata": {},
   "source": [
    "### Combined changes\n",
    "All these elementary changes can be combined and are all applied at the beginning of the `Timecourse`. For instance to change the amount of `X` to `100`, the parameter `n` to `5` and the concentration of `[Y]` to `50` use the changes\n",
    "```\n",
    "changes={'n': 5, 'X': 100, '[Y]: 50}\n",
    "```"
   ]
  },
  {
   "cell_type": "code",
   "execution_count": 11,
   "metadata": {},
   "outputs": [
    {
     "name": "stderr",
     "output_type": "stream",
     "text": [
      "WARNING:pint.util:Redefining 'yr' (<class 'pint.definitions.UnitDefinition'>)\n",
      "WARNING:sbmlsim.units:substance or volume unit missing, impossible to determine concentration unit for [PX])\n",
      "WARNING:sbmlsim.units:substance or volume unit missing, impossible to determine concentration unit for [PY])\n",
      "WARNING:sbmlsim.units:substance or volume unit missing, impossible to determine concentration unit for [PZ])\n",
      "WARNING:sbmlsim.units:substance or volume unit missing, impossible to determine concentration unit for [X])\n",
      "WARNING:sbmlsim.units:substance or volume unit missing, impossible to determine concentration unit for [Y])\n",
      "WARNING:sbmlsim.units:substance or volume unit missing, impossible to determine concentration unit for [Z])\n",
      "WARNING:sbmlsim.units:DerivedUnit not found in UnitDefinitions: 1/(item)\n",
      "WARNING:sbmlsim.units:DerivedUnit not found in UnitDefinitions: 1/(item)\n",
      "WARNING:sbmlsim.units:DerivedUnit not found in UnitDefinitions: 1/(item)\n",
      "WARNING:sbmlsim.timecourse:No units provided, assuming model units: n = 5 dimensionless\n",
      "WARNING:sbmlsim.timecourse:No units provided, assuming model units: X = 100 dimensionless\n",
      "WARNING:sbmlsim.timecourse:No units provided, assuming model units: [Y] = 50 dimensionless\n",
      "WARNING:root:For a single simulation the mean returns the single simulation\n"
     ]
    },
    {
     "data": {
      "image/png": "[encoded data removed]",
      "text/plain": [
       "<Figure size 360x360 with 1 Axes>"
      ]
     },
     "metadata": {},
     "output_type": "display_data"
    },
    {
     "name": "stdout",
     "output_type": "stream",
     "text": [
      "{\n",
      "  \"timecourses\": [\n",
      "    {\n",
      "      \"normalized\": true,\n",
      "      \"start\": 0,\n",
      "      \"end\": 60,\n",
      "      \"steps\": 60,\n",
      "      \"changes\": {\n",
      "        \"n\": {\n",
      "          \"_magnitude\": 5,\n",
      "          \"_units\": \"dimensionless\",\n",
      "          \"_Quantity__used\": false,\n",
      "          \"_Quantity__handling\": null\n",
      "        },\n",
      "        \"X\": {\n",
      "          \"_magnitude\": 100,\n",
      "          \"_units\": \"dimensionless\",\n",
      "          \"_Quantity__used\": false,\n",
      "          \"_Quantity__handling\": null\n",
      "        },\n",
      "        \"[Y]\": {\n",
      "          \"_magnitude\": 50,\n",
      "          \"_units\": \"dimensionless\",\n",
      "          \"_Quantity__used\": false,\n",
      "          \"_Quantity__handling\": null\n",
      "        }\n",
      "      },\n",
      "      \"model_changes\": {}\n",
      "    }\n",
      "  ],\n",
      "  \"selections\": null,\n",
      "  \"reset\": true,\n",
      "  \"time_offset\": 0.0\n",
      "}\n"
     ]
    }
   ],
   "source": [
    "ex_id = 5\n",
    "simulator = Simulator(\"./models/repressilator.xml\")\n",
    "tcsim = TimecourseSim(\n",
    "    Timecourse(start=0, end=60, steps=60, changes={'n': 5, 'X': 100, '[Y]': 50})\n",
    ")\n",
    "result = simulator.timecourses(tcsim)\n",
    "plot_repressilator_result(result)\n",
    "\n",
    "tcsim.to_json(f'./json_examples/example_{ex_id}.json')\n",
    "result.mean.to_csv(f'./json_examples/example_{ex_id}.tsv', index=False, sep='\\t')\n",
    "print(tcsim.to_json())"
   ]
  },
  {
   "cell_type": "markdown",
   "metadata": {},
   "source": [
    "## Combined timecourses\n",
    "Multiple `Timecourse` objects can be combined to one large timecourse. The results  of the individual `Timecourse` are thereby concatenated. The `changes` are always applied at the beginning of the individual `Timecourse` simulations. \n",
    "\n",
    "The model state is persistent in the multiple timecourses, i.e. the end state of the state variables of one Timecourse are the starting values of the next Timecourse (with exception of state variables affected by changes).\n",
    "\n",
    "An example will demonstrate what is meant by this. The complete timecourse simulation consists of 3 `Timecourse` parts:\n",
    "\n",
    "* start the first Timecourse with an initial amount of `X=20` and simulate for 120 time steps\n",
    "* set `n=20` in the model (while keeping the current state of all state variables) and continue simulating for 240 steps\n",
    "* set `n=2` (this is the initial value of n) and continue simulating for another 240 steps\n",
    "\n",
    "The result is a single timecourse simulation consisting of 3 timecourse parts."
   ]
  },
  {
   "cell_type": "code",
   "execution_count": 12,
   "metadata": {},
   "outputs": [
    {
     "name": "stderr",
     "output_type": "stream",
     "text": [
      "WARNING:pint.util:Redefining 'yr' (<class 'pint.definitions.UnitDefinition'>)\n",
      "WARNING:sbmlsim.units:substance or volume unit missing, impossible to determine concentration unit for [PX])\n",
      "WARNING:sbmlsim.units:substance or volume unit missing, impossible to determine concentration unit for [PY])\n",
      "WARNING:sbmlsim.units:substance or volume unit missing, impossible to determine concentration unit for [PZ])\n",
      "WARNING:sbmlsim.units:substance or volume unit missing, impossible to determine concentration unit for [X])\n",
      "WARNING:sbmlsim.units:substance or volume unit missing, impossible to determine concentration unit for [Y])\n",
      "WARNING:sbmlsim.units:substance or volume unit missing, impossible to determine concentration unit for [Z])\n",
      "WARNING:sbmlsim.units:DerivedUnit not found in UnitDefinitions: 1/(item)\n",
      "WARNING:sbmlsim.units:DerivedUnit not found in UnitDefinitions: 1/(item)\n",
      "WARNING:sbmlsim.units:DerivedUnit not found in UnitDefinitions: 1/(item)\n",
      "WARNING:sbmlsim.timecourse:No units provided, assuming model units: X = 20 dimensionless\n",
      "WARNING:sbmlsim.timecourse:No units provided, assuming model units: n = 20 dimensionless\n",
      "WARNING:sbmlsim.timecourse:No units provided, assuming model units: n = 2 dimensionless\n",
      "WARNING:root:For a single simulation the mean returns the single simulation\n"
     ]
    },
    {
     "data": {
      "image/png": "[encoded data removed]",
      "text/plain": [
       "<Figure size 360x360 with 1 Axes>"
      ]
     },
     "metadata": {},
     "output_type": "display_data"
    },
    {
     "name": "stdout",
     "output_type": "stream",
     "text": [
      "{\n",
      "  \"timecourses\": [\n",
      "    {\n",
      "      \"normalized\": true,\n",
      "      \"start\": 0,\n",
      "      \"end\": 120,\n",
      "      \"steps\": 60,\n",
      "      \"changes\": {\n",
      "        \"X\": {\n",
      "          \"_magnitude\": 20,\n",
      "          \"_units\": \"dimensionless\",\n",
      "          \"_Quantity__used\": false,\n",
      "          \"_Quantity__handling\": null\n",
      "        }\n",
      "      },\n",
      "      \"model_changes\": {}\n",
      "    },\n",
      "    {\n",
      "      \"normalized\": true,\n",
      "      \"start\": 0,\n",
      "      \"end\": 240,\n",
      "      \"steps\": 120,\n",
      "      \"changes\": {\n",
      "        \"n\": {\n",
      "          \"_magnitude\": 20,\n",
      "          \"_units\": \"dimensionless\",\n",
      "          \"_Quantity__used\": false,\n",
      "          \"_Quantity__handling\": null\n",
      "        }\n",
      "      },\n",
      "      \"model_changes\": {}\n",
      "    },\n",
      "    {\n",
      "      \"normalized\": true,\n",
      "      \"start\": 0,\n",
      "      \"end\": 240,\n",
      "      \"steps\": 120,\n",
      "      \"changes\": {\n",
      "        \"n\": {\n",
      "          \"_magnitude\": 2,\n",
      "          \"_units\": \"dimensionless\",\n",
      "          \"_Quantity__used\": false,\n",
      "          \"_Quantity__handling\": null\n",
      "        }\n",
      "      },\n",
      "      \"model_changes\": {}\n",
      "    }\n",
      "  ],\n",
      "  \"selections\": null,\n",
      "  \"reset\": true,\n",
      "  \"time_offset\": 0.0\n",
      "}\n"
     ]
    }
   ],
   "source": [
    "ex_id = 6\n",
    "simulator = Simulator(\"./models/repressilator.xml\")\n",
    "tcsim = TimecourseSim([\n",
    "    Timecourse(start=0, end=120, steps=60, changes={'X': 20}),\n",
    "    Timecourse(start=0, end=240, steps=120, changes={'n': 20}),\n",
    "    Timecourse(start=0, end=240, steps=120, changes={'n': 2}),\n",
    "])\n",
    "result = simulator.timecourses(tcsim)\n",
    "plot_repressilator_result(result)\n",
    "\n",
    "tcsim.to_json(f'./json_examples/example_{ex_id}.json')\n",
    "result.mean.to_csv(f'./json_examples/example_{ex_id}.tsv', index=False, sep='\\t')\n",
    "print(tcsim.to_json())"
   ]
  },
  {
   "cell_type": "markdown",
   "metadata": {},
   "source": [
    "## Fields overview\n",
    "The following fields are available for `TimecourseSim`:\n",
    "\n",
    "* `selections`: which columns should be stored in the output\n",
    "* `reset`: should the model be reset at the beginning of a TimecourseSim (default=True)\n",
    "\n",
    "The following fields are available for `Timecourse`:\n",
    "\n",
    "* `start`: start time of integration\n",
    "* `end`: end time of integration\n",
    "* `steps`: steps in the integration, the final output has `steps+1` points\n",
    "* `changes`: dictionary of changes applied at the beginning of timecourse simulation\n",
    "* `model_changes`: `depecrated` can be ignored"
   ]
  },
  {
   "cell_type": "code",
   "execution_count": null,
   "metadata": {},
   "outputs": [],
   "source": []
  }
 ],
 "metadata": {
  "kernelspec": {
   "display_name": "sbmlsim",
   "language": "python",
   "name": "sbmlsim"
  },
  "language_info": {
   "codemirror_mode": {
    "name": "ipython",
    "version": 3
   },
   "file_extension": ".py",
   "mimetype": "text/x-python",
   "name": "python",
   "nbconvert_exporter": "python",
   "pygments_lexer": "ipython3",
   "version": "3.7.6"
  }
 },
 "nbformat": 4,
 "nbformat_minor": 4
}
